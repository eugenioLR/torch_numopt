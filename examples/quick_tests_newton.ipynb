{
 "cells": [
  {
   "cell_type": "code",
   "execution_count": 12,
   "metadata": {},
   "outputs": [],
   "source": [
    "import torch\n",
    "import torch.nn as nn\n",
    "import torch.optim as optim\n",
    "import torch_numopt\n",
    "import numpy as np\n",
    "import matplotlib.pyplot as plt\n",
    "from torch.utils.data import DataLoader, TensorDataset\n",
    "from sklearn.datasets import *\n",
    "from sklearn.preprocessing import MinMaxScaler\n",
    "from sklearn.model_selection import train_test_split\n",
    "from sklearn.metrics import r2_score, mean_absolute_error"
   ]
  },
  {
   "cell_type": "code",
   "execution_count": 13,
   "metadata": {},
   "outputs": [],
   "source": [
    "device = \"cpu\""
   ]
  },
  {
   "cell_type": "code",
   "execution_count": 14,
   "metadata": {},
   "outputs": [],
   "source": [
    "class Net(nn.Module):\n",
    "    def __init__(self, input_size, device=\"cpu\"):\n",
    "        super().__init__()\n",
    "        self.f1 = nn.Linear(input_size, 10, device=device)\n",
    "        self.f2 = nn.Linear(10, 20, device=device)\n",
    "        self.f3 = nn.Linear(20, 20, device=device)\n",
    "        self.f4 = nn.Linear(20, 10, device=device)\n",
    "        self.f5 = nn.Linear(10, 1, device=device)\n",
    "\n",
    "        self.activation = nn.ReLU()\n",
    "        # self.activation = nn.Sigmoid()\n",
    "\n",
    "    def forward(self, x):\n",
    "        x = self.activation(self.f1(x))\n",
    "        x = self.activation(self.f2(x))\n",
    "        x = self.activation(self.f3(x))\n",
    "        x = self.activation(self.f4(x))\n",
    "        x = self.f5(x)\n",
    "\n",
    "        return x"
   ]
  },
  {
   "cell_type": "code",
   "execution_count": 39,
   "metadata": {},
   "outputs": [
    {
     "name": "stdout",
     "output_type": "stream",
     "text": [
      "torch.Size([800, 10]) torch.Size([800, 1])\n",
      "torch.Size([200, 10]) torch.Size([200, 1])\n"
     ]
    }
   ],
   "source": [
    "# X, y = load_diabetes(return_X_y=True, scaled=False)\n",
    "# X, y = make_regression(n_samples=1000, n_features=100)\n",
    "X, y = make_friedman1(n_samples=1000, noise=1e-2)\n",
    "\n",
    "X_scaler = MinMaxScaler()\n",
    "X = X_scaler.fit_transform(X)\n",
    "X = torch.Tensor(X).to(device)\n",
    "\n",
    "y_scaler = MinMaxScaler()\n",
    "y = y_scaler.fit_transform(y.reshape((-1, 1)))\n",
    "y = torch.Tensor(y).to(device)\n",
    "\n",
    "X_train, X_test, y_train, y_test = train_test_split(X, y, test_size=0.2)\n",
    "print(X_train.shape, y_train.shape)\n",
    "print(X_test.shape, y_test.shape)\n",
    "\n",
    "torch_data = TensorDataset(X_train, y_train)\n",
    "data_loader = DataLoader(torch_data, batch_size=1000)"
   ]
  },
  {
   "cell_type": "code",
   "execution_count": 40,
   "metadata": {},
   "outputs": [
    {
     "name": "stdout",
     "output_type": "stream",
     "text": [
      "epoch:  0, loss: 0.07233306765556335\n",
      "epoch:  1, loss: 0.06750340759754181\n",
      "epoch:  2, loss: 0.059233251959085464\n",
      "epoch:  3, loss: 0.05218599736690521\n",
      "epoch:  4, loss: 0.045175839215517044\n",
      "epoch:  5, loss: 0.04024631530046463\n",
      "epoch:  6, loss: 0.03551010414958\n",
      "epoch:  7, loss: 0.031468022614717484\n",
      "epoch:  8, loss: 0.025321176275610924\n",
      "epoch:  9, loss: 0.011351419612765312\n",
      "epoch:  10, loss: 0.007511364761739969\n",
      "epoch:  11, loss: 0.0059186979196965694\n",
      "epoch:  12, loss: 0.004863196983933449\n",
      "epoch:  13, loss: 0.0041937921196222305\n",
      "epoch:  14, loss: 0.0037375465035438538\n",
      "epoch:  15, loss: 0.0033499700948596\n",
      "epoch:  16, loss: 0.003044945653527975\n",
      "epoch:  17, loss: 0.0028106779791414738\n",
      "epoch:  18, loss: 0.0026336198206990957\n",
      "epoch:  19, loss: 0.0024891220964491367\n",
      "epoch:  20, loss: 0.002363544423133135\n",
      "epoch:  21, loss: 0.0022622353862971067\n",
      "epoch:  22, loss: 0.0021610651165246964\n",
      "epoch:  23, loss: 0.0020802856888622046\n",
      "epoch:  24, loss: 0.002010790165513754\n",
      "epoch:  25, loss: 0.0019516190513968468\n",
      "epoch:  26, loss: 0.00190201576333493\n",
      "epoch:  27, loss: 0.0018487084889784455\n",
      "epoch:  28, loss: 0.0018038898706436157\n",
      "epoch:  29, loss: 0.001769367721863091\n",
      "epoch:  30, loss: 0.0017383908852934837\n",
      "epoch:  31, loss: 0.0016976941842585802\n",
      "epoch:  32, loss: 0.0016622658586129546\n",
      "epoch:  33, loss: 0.0016281749121844769\n",
      "epoch:  34, loss: 0.0015988475643098354\n",
      "epoch:  35, loss: 0.0015721740201115608\n",
      "epoch:  36, loss: 0.0015480635920539498\n",
      "epoch:  37, loss: 0.0015186081873252988\n",
      "epoch:  38, loss: 0.0014950426993891597\n",
      "epoch:  39, loss: 0.001470048911869526\n",
      "epoch:  40, loss: 0.001447235350497067\n",
      "epoch:  41, loss: 0.001422778470441699\n",
      "epoch:  42, loss: 0.0013981129741296172\n",
      "epoch:  43, loss: 0.0013729899656027555\n",
      "epoch:  44, loss: 0.0013514825841411948\n",
      "epoch:  45, loss: 0.0013297677505761385\n",
      "epoch:  46, loss: 0.0013113390887156129\n",
      "epoch:  47, loss: 0.001290979329496622\n",
      "epoch:  48, loss: 0.0012731823371723294\n",
      "epoch:  49, loss: 0.0012557186419144273\n",
      "epoch:  50, loss: 0.001237558200955391\n",
      "epoch:  51, loss: 0.0012257967609912157\n",
      "epoch:  52, loss: 0.0012027858756482601\n",
      "epoch:  53, loss: 0.001183260465040803\n",
      "epoch:  54, loss: 0.0011673340341076255\n",
      "epoch:  55, loss: 0.0011526375310495496\n",
      "epoch:  56, loss: 0.0011413516476750374\n",
      "epoch:  57, loss: 0.001127229887060821\n",
      "epoch:  58, loss: 0.0011073482455685735\n",
      "epoch:  59, loss: 0.0010884773219004273\n",
      "epoch:  60, loss: 0.0010718483245000243\n",
      "epoch:  61, loss: 0.0010576988570392132\n",
      "epoch:  62, loss: 0.0010413241107016802\n",
      "epoch:  63, loss: 0.0010284229647368193\n",
      "epoch:  64, loss: 0.0010131209855899215\n",
      "epoch:  65, loss: 0.000997420633211732\n",
      "epoch:  66, loss: 0.0009852414950728416\n",
      "epoch:  67, loss: 0.0009745510760694742\n",
      "epoch:  68, loss: 0.0009615410817787051\n",
      "epoch:  69, loss: 0.0009485581540502608\n",
      "epoch:  70, loss: 0.0009367635939270258\n",
      "epoch:  71, loss: 0.0009274209151044488\n",
      "epoch:  72, loss: 0.0009160611662082374\n",
      "epoch:  73, loss: 0.0009063731413334608\n",
      "epoch:  74, loss: 0.0008934687939472497\n",
      "epoch:  75, loss: 0.0008840992231853306\n",
      "epoch:  76, loss: 0.0008750041015446186\n",
      "epoch:  77, loss: 0.0008657120051793754\n",
      "epoch:  78, loss: 0.0008563822484575212\n",
      "epoch:  79, loss: 0.0008495132788084447\n",
      "epoch:  80, loss: 0.0008361462387256324\n",
      "epoch:  81, loss: 0.0008307822281494737\n",
      "epoch:  82, loss: 0.000823126349132508\n",
      "epoch:  83, loss: 0.0008147946209646761\n",
      "epoch:  84, loss: 0.0008063161512836814\n",
      "epoch:  85, loss: 0.0008038522209972143\n",
      "epoch:  86, loss: 0.00079467793693766\n",
      "epoch:  87, loss: 0.0007869423134252429\n",
      "epoch:  88, loss: 0.0007801309693604708\n",
      "epoch:  89, loss: 0.0007746546762064099\n",
      "epoch:  90, loss: 0.0007706731557846069\n",
      "epoch:  91, loss: 0.0007669185870327055\n",
      "epoch:  92, loss: 0.0007578004151582718\n",
      "epoch:  93, loss: 0.0007541520753875375\n",
      "epoch:  94, loss: 0.000745832163374871\n",
      "epoch:  95, loss: 0.0007445969386026263\n",
      "epoch:  96, loss: 0.0007426218944601715\n",
      "epoch:  97, loss: 0.000738258589990437\n",
      "epoch:  98, loss: 0.0007332557579502463\n",
      "epoch:  99, loss: 0.0007274581585079432\n"
     ]
    }
   ],
   "source": [
    "model = Net(input_size=X.shape[1], device=device)\n",
    "loss_fn = nn.MSELoss()\n",
    "opt = torch_numopt.NewtonRaphson(model.parameters(), lr=1, model=model, c1=1e-4, tau=0.1, line_search_method=\"backtrack\", line_search_cond=\"armijo\")\n",
    "# opt = torch_numopt.NewtonRaphson(model.parameters(), lr=1, model=model, c1=1e-4, tau=0.5, line_search_method='backtrack', line_search_cond='wolfe')\n",
    "# opt = torch_numopt.NewtonRaphson(model.parameters(), lr=1, model=model, c1=1e-4, tau=0.5, line_search_method='backtrack', line_search_cond='strong-wolfe')\n",
    "# opt = torch_numopt.NewtonRaphson(model.parameters(), lr=1, model=model, c1=1e-4, tau=0.5, line_search_method='backtrack', line_search_cond='goldstein')\n",
    "\n",
    "all_loss = {}\n",
    "for epoch in range(100):\n",
    "    print(\"epoch: \", epoch, end=\"\")\n",
    "    all_loss[epoch + 1] = 0\n",
    "    for batch_idx, (b_x, b_y) in enumerate(data_loader):\n",
    "        pre = model(b_x)\n",
    "        loss = loss_fn(pre, b_y)\n",
    "        opt.zero_grad()\n",
    "        loss.backward()\n",
    "\n",
    "        # parameter update step based on optimizer\n",
    "        opt.step(b_x, b_y, loss_fn)\n",
    "\n",
    "        all_loss[epoch + 1] += loss\n",
    "    all_loss[epoch + 1] /= len(data_loader)\n",
    "    print(\", loss: {}\".format(all_loss[epoch + 1].detach().numpy().item()))"
   ]
  },
  {
   "cell_type": "code",
   "execution_count": 42,
   "metadata": {},
   "outputs": [
    {
     "name": "stdout",
     "output_type": "stream",
     "text": [
      "Train metrics: R2 = 0.9796991935105147\n",
      "Test metrics:  R2 = 0.8726245798291533\n"
     ]
    }
   ],
   "source": [
    "pred_train = model.forward(X_train).detach()\n",
    "pred_test = model.forward(X_test).detach()\n",
    "print(f\"Train metrics: R2 = {r2_score(pred_train, y_train)}\")\n",
    "print(f\"Test metrics:  R2 = {r2_score(pred_test, y_test)}\")"
   ]
  }
 ],
 "metadata": {
  "kernelspec": {
   "display_name": "ml",
   "language": "python",
   "name": "python3"
  },
  "language_info": {
   "codemirror_mode": {
    "name": "ipython",
    "version": 3
   },
   "file_extension": ".py",
   "mimetype": "text/x-python",
   "name": "python",
   "nbconvert_exporter": "python",
   "pygments_lexer": "ipython3",
   "version": "3.10.11"
  }
 },
 "nbformat": 4,
 "nbformat_minor": 2
}
