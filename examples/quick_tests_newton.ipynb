{
 "cells": [
  {
   "cell_type": "code",
   "execution_count": 20,
   "metadata": {},
   "outputs": [],
   "source": [
    "import torch\n",
    "import torch.nn as nn\n",
    "import torch.optim as optim\n",
    "import torch_numopt\n",
    "import numpy as np\n",
    "import matplotlib.pyplot as plt\n",
    "from torch.utils.data import DataLoader, TensorDataset\n",
    "from sklearn.datasets import *\n",
    "from sklearn.preprocessing import MinMaxScaler\n",
    "from sklearn.model_selection import train_test_split\n",
    "from sklearn.metrics import r2_score, mean_absolute_error"
   ]
  },
  {
   "cell_type": "code",
   "execution_count": 21,
   "metadata": {},
   "outputs": [],
   "source": [
    "device = \"cuda\" if torch.cuda.is_available() else \"cpu\""
   ]
  },
  {
   "cell_type": "code",
   "execution_count": 22,
   "metadata": {},
   "outputs": [],
   "source": [
    "class Net(nn.Module):\n",
    "    def __init__(self, input_size, device=\"cpu\"):\n",
    "        super().__init__()\n",
    "        self.f1 = nn.Linear(input_size, 10, device=device)\n",
    "        self.f2 = nn.Linear(10, 20, device=device)\n",
    "        self.f3 = nn.Linear(20, 20, device=device)\n",
    "        self.f4 = nn.Linear(20, 10, device=device)\n",
    "        self.f5 = nn.Linear(10, 1, device=device)\n",
    "\n",
    "        self.activation = nn.ReLU()\n",
    "        # self.activation = nn.Sigmoid()\n",
    "\n",
    "    def forward(self, x):\n",
    "        x = self.activation(self.f1(x))\n",
    "        x = self.activation(self.f2(x))\n",
    "        x = self.activation(self.f3(x))\n",
    "        x = self.activation(self.f4(x))\n",
    "        x = self.f5(x)\n",
    "\n",
    "        return x"
   ]
  },
  {
   "cell_type": "code",
   "execution_count": 23,
   "metadata": {},
   "outputs": [
    {
     "name": "stdout",
     "output_type": "stream",
     "text": [
      "torch.Size([800, 10]) torch.Size([800, 1])\n",
      "torch.Size([200, 10]) torch.Size([200, 1])\n"
     ]
    }
   ],
   "source": [
    "# X, y = load_diabetes(return_X_y=True, scaled=False)\n",
    "# X, y = make_regression(n_samples=1000, n_features=100)\n",
    "X, y = make_friedman1(n_samples=1000, noise=1e-2)\n",
    "\n",
    "X_scaler = MinMaxScaler()\n",
    "X = X_scaler.fit_transform(X)\n",
    "X = torch.Tensor(X).to(device)\n",
    "\n",
    "y_scaler = MinMaxScaler()\n",
    "y = y_scaler.fit_transform(y.reshape((-1, 1)))\n",
    "y = torch.Tensor(y).to(device)\n",
    "\n",
    "X_train, X_test, y_train, y_test = train_test_split(X, y, test_size=0.2)\n",
    "print(X_train.shape, y_train.shape)\n",
    "print(X_test.shape, y_test.shape)\n",
    "\n",
    "torch_data = TensorDataset(X_train, y_train)\n",
    "data_loader = DataLoader(torch_data, batch_size=1000)"
   ]
  },
  {
   "cell_type": "code",
   "execution_count": 24,
   "metadata": {},
   "outputs": [
    {
     "name": "stdout",
     "output_type": "stream",
     "text": [
      "epoch:  0, loss: 0.461049884557724\n",
      "epoch:  1, loss: 0.24958816170692444\n",
      "epoch:  2, loss: 0.14683139324188232\n",
      "epoch:  3, loss: 0.04643009230494499\n",
      "epoch:  4, loss: 0.04215195029973984\n",
      "epoch:  5, loss: 0.04018186405301094\n",
      "epoch:  6, loss: 0.018917107954621315\n",
      "epoch:  7, loss: 0.018094776198267937\n",
      "epoch:  8, loss: 0.014612436294555664\n",
      "epoch:  9, loss: 0.010159029625356197\n",
      "epoch:  10, loss: 0.008321722969412804\n",
      "epoch:  11, loss: 0.007406591437757015\n",
      "epoch:  12, loss: 0.006780920084565878\n",
      "epoch:  13, loss: 0.006251584272831678\n",
      "epoch:  14, loss: 0.005870012100785971\n",
      "epoch:  15, loss: 0.005538708996027708\n",
      "epoch:  16, loss: 0.005296646151691675\n",
      "epoch:  17, loss: 0.0050726053304970264\n",
      "epoch:  18, loss: 0.004946200177073479\n",
      "epoch:  19, loss: 0.004735412076115608\n",
      "epoch:  20, loss: 0.0045388732105493546\n",
      "epoch:  21, loss: 0.004351796582341194\n",
      "epoch:  22, loss: 0.004202843643724918\n",
      "epoch:  23, loss: 0.004041582345962524\n",
      "epoch:  24, loss: 0.003941328264772892\n",
      "epoch:  25, loss: 0.0037919837050139904\n",
      "epoch:  26, loss: 0.0036753450985997915\n",
      "epoch:  27, loss: 0.0035585828591138124\n",
      "epoch:  28, loss: 0.0034784062299877405\n",
      "epoch:  29, loss: 0.003381652757525444\n",
      "epoch:  30, loss: 0.0032919782679528\n",
      "epoch:  31, loss: 0.0032167755998671055\n",
      "epoch:  32, loss: 0.0031172309536486864\n",
      "epoch:  33, loss: 0.003034793073311448\n",
      "epoch:  34, loss: 0.0029739546589553356\n",
      "epoch:  35, loss: 0.0029007901903241873\n",
      "epoch:  36, loss: 0.0028326783794909716\n",
      "epoch:  37, loss: 0.0027605658397078514\n",
      "epoch:  38, loss: 0.0027000291738659143\n",
      "epoch:  39, loss: 0.0026489743031561375\n",
      "epoch:  40, loss: 0.0025984521489590406\n",
      "epoch:  41, loss: 0.0025450356770306826\n",
      "epoch:  42, loss: 0.0024997496511787176\n",
      "epoch:  43, loss: 0.0024511232040822506\n",
      "epoch:  44, loss: 0.002396462019532919\n",
      "epoch:  45, loss: 0.0023541280534118414\n",
      "epoch:  46, loss: 0.0023286244831979275\n",
      "epoch:  47, loss: 0.00227164663374424\n",
      "epoch:  48, loss: 0.002247533528134227\n",
      "epoch:  49, loss: 0.0022153970785439014\n",
      "epoch:  50, loss: 0.0021920972503721714\n",
      "epoch:  51, loss: 0.0021470205392688513\n",
      "epoch:  52, loss: 0.0021237616892904043\n",
      "epoch:  53, loss: 0.0020923821721225977\n",
      "epoch:  54, loss: 0.0020785692613571882\n",
      "epoch:  55, loss: 0.0020590354688465595\n",
      "epoch:  56, loss: 0.002037751255556941\n",
      "epoch:  57, loss: 0.0020075321663171053\n",
      "epoch:  58, loss: 0.0019926237873733044\n",
      "epoch:  59, loss: 0.0019640217069536448\n",
      "epoch:  60, loss: 0.0019538330379873514\n",
      "epoch:  61, loss: 0.001926055527292192\n",
      "epoch:  62, loss: 0.0019147960701957345\n",
      "epoch:  63, loss: 0.0018937612185254693\n",
      "epoch:  64, loss: 0.001880987430922687\n",
      "epoch:  65, loss: 0.0018671088619157672\n",
      "epoch:  66, loss: 0.0018477201228961349\n",
      "epoch:  67, loss: 0.0018348764861002564\n",
      "epoch:  68, loss: 0.0018320035887882113\n",
      "epoch:  69, loss: 0.0018111757235601544\n",
      "epoch:  70, loss: 0.0017991320928558707\n",
      "epoch:  71, loss: 0.0017800446366891265\n",
      "epoch:  72, loss: 0.0017716219881549478\n",
      "epoch:  73, loss: 0.0017639040015637875\n",
      "epoch:  74, loss: 0.001746521214954555\n",
      "epoch:  75, loss: 0.0017348243854939938\n",
      "epoch:  76, loss: 0.0017268904484808445\n",
      "epoch:  77, loss: 0.0017166240140795708\n",
      "epoch:  78, loss: 0.0017054248601198196\n",
      "epoch:  79, loss: 0.001691555604338646\n",
      "epoch:  80, loss: 0.0016828292282298207\n",
      "epoch:  81, loss: 0.0016719039995223284\n",
      "epoch:  82, loss: 0.001663396367803216\n",
      "epoch:  83, loss: 0.0016520260833203793\n",
      "epoch:  84, loss: 0.0016338531859219074\n",
      "epoch:  85, loss: 0.0016248681349679828\n",
      "epoch:  86, loss: 0.0016217841766774654\n",
      "epoch:  87, loss: 0.0016148635186254978\n",
      "epoch:  88, loss: 0.0016126143746078014\n",
      "epoch:  89, loss: 0.0016031377017498016\n",
      "epoch:  90, loss: 0.001602374017238617\n",
      "epoch:  91, loss: 0.0015985398786142468\n",
      "epoch:  92, loss: 0.0015924409963190556\n",
      "epoch:  93, loss: 0.0015889807837083936\n",
      "epoch:  94, loss: 0.0015764893032610416\n",
      "epoch:  95, loss: 0.001576150069013238\n",
      "epoch:  96, loss: 0.0015758553054183722\n",
      "epoch:  97, loss: 0.001570820459164679\n",
      "epoch:  98, loss: 0.001567621249705553\n",
      "epoch:  99, loss: 0.001560867065563798\n"
     ]
    }
   ],
   "source": [
    "model = Net(input_size=X.shape[1], device=device)\n",
    "loss_fn = nn.MSELoss()\n",
    "\n",
    "opt = torch_numopt.NewtonRaphson(params=model.parameters(), model=model, lr=1, c1=1e-4, tau=0.1, line_search_method=\"backtrack\", line_search_cond=\"armijo\")\n",
    "# opt = torch_numopt.NewtonRaphson(params=model.parameters(), model=model, lr=1, c1=1e-4, tau=0.5, line_search_method=\"backtrack\", line_search_cond=\"wolfe\")\n",
    "# opt = torch_numopt.NewtonRaphson(params=model.parameters(), model=model, lr=1, c1=1e-4, tau=0.5, line_search_method=\"backtrack\", line_search_cond=\"strong-wolfe\")\n",
    "# opt = torch_numopt.NewtonRaphson(params=model.parameters(), model=model, lr=1, c1=1e-4, tau=0.5, line_search_method=\"backtrack\", line_search_cond=\"goldstein\")\n",
    "\n",
    "all_loss = {}\n",
    "for epoch in range(100):\n",
    "    print(\"epoch: \", epoch, end=\"\")\n",
    "    all_loss[epoch + 1] = 0\n",
    "    for batch_idx, (b_x, b_y) in enumerate(data_loader):\n",
    "        pre = model(b_x)\n",
    "        loss = loss_fn(pre, b_y)\n",
    "        opt.zero_grad()\n",
    "        loss.backward()\n",
    "\n",
    "        # parameter update step based on optimizer\n",
    "        opt.step(b_x, b_y, loss_fn)\n",
    "\n",
    "        all_loss[epoch + 1] += loss\n",
    "    all_loss[epoch + 1] /= len(data_loader)\n",
    "    print(\", loss: {}\".format(all_loss[epoch + 1].cpu().detach().numpy().item()))"
   ]
  },
  {
   "cell_type": "code",
   "execution_count": 25,
   "metadata": {},
   "outputs": [
    {
     "name": "stdout",
     "output_type": "stream",
     "text": [
      "Train metrics: R2 = 0.9575366906204651\n",
      "Test metrics:  R2 = 0.8785905719300825\n"
     ]
    }
   ],
   "source": [
    "pred_train = model.forward(X_train).cpu().detach()\n",
    "pred_test = model.forward(X_test).cpu().detach()\n",
    "print(f\"Train metrics: R2 = {r2_score(pred_train, y_train.cpu())}\")\n",
    "print(f\"Test metrics:  R2 = {r2_score(pred_test, y_test.cpu())}\")"
   ]
  }
 ],
 "metadata": {
  "kernelspec": {
   "display_name": "torch_numopt",
   "language": "python",
   "name": "python3"
  },
  "language_info": {
   "codemirror_mode": {
    "name": "ipython",
    "version": 3
   },
   "file_extension": ".py",
   "mimetype": "text/x-python",
   "name": "python",
   "nbconvert_exporter": "python",
   "pygments_lexer": "ipython3",
   "version": "3.10.16"
  }
 },
 "nbformat": 4,
 "nbformat_minor": 2
}
