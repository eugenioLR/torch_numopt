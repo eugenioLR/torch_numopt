{
 "cells": [
  {
   "cell_type": "code",
   "execution_count": 1,
   "metadata": {},
   "outputs": [],
   "source": [
    "import torch\n",
    "import torch.nn as nn\n",
    "import torch.optim as optim\n",
    "import torch_numopt\n",
    "import numpy as np\n",
    "import matplotlib.pyplot as plt\n",
    "from torch.utils.data import DataLoader, TensorDataset\n",
    "from sklearn.datasets import *\n",
    "from sklearn.preprocessing import MinMaxScaler\n",
    "from sklearn.model_selection import train_test_split\n",
    "from sklearn.metrics import r2_score, mean_absolute_error"
   ]
  },
  {
   "cell_type": "code",
   "execution_count": 2,
   "metadata": {},
   "outputs": [],
   "source": [
    "device = \"cpu\""
   ]
  },
  {
   "cell_type": "code",
   "execution_count": 3,
   "metadata": {},
   "outputs": [],
   "source": [
    "class Net(nn.Module):\n",
    "    def __init__(self, input_size, device=\"cpu\"):\n",
    "        super().__init__()\n",
    "        self.f1 = nn.Linear(input_size, 10, device=device)\n",
    "        self.f2 = nn.Linear(10, 20, device=device)\n",
    "        self.f3 = nn.Linear(20, 20, device=device)\n",
    "        self.f4 = nn.Linear(20, 10, device=device)\n",
    "        self.f5 = nn.Linear(10, 1, device=device)\n",
    "\n",
    "        self.activation = nn.ReLU()\n",
    "        # self.activation = nn.Sigmoid()\n",
    "\n",
    "    def forward(self, x):\n",
    "        x = self.activation(self.f1(x))\n",
    "        x = self.activation(self.f2(x))\n",
    "        x = self.activation(self.f3(x))\n",
    "        x = self.activation(self.f4(x))\n",
    "        x = self.f5(x)\n",
    "\n",
    "        return x"
   ]
  },
  {
   "cell_type": "code",
   "execution_count": 4,
   "metadata": {},
   "outputs": [
    {
     "name": "stdout",
     "output_type": "stream",
     "text": [
      "torch.Size([800, 10]) torch.Size([800, 1])\n",
      "torch.Size([200, 10]) torch.Size([200, 1])\n"
     ]
    }
   ],
   "source": [
    "# X, y = load_diabetes(return_X_y=True, scaled=False)\n",
    "# X, y = make_regression(n_samples=1000, n_features=100)\n",
    "X, y = make_friedman1(n_samples=1000, noise=1e-2)\n",
    "\n",
    "X_scaler = MinMaxScaler()\n",
    "X = X_scaler.fit_transform(X)\n",
    "X = torch.Tensor(X).to(device)\n",
    "\n",
    "y_scaler = MinMaxScaler()\n",
    "y = y_scaler.fit_transform(y.reshape((-1, 1)))\n",
    "y = torch.Tensor(y).to(device)\n",
    "\n",
    "X_train, X_test, y_train, y_test = train_test_split(X, y, test_size=0.2)\n",
    "print(X_train.shape, y_train.shape)\n",
    "print(X_test.shape, y_test.shape)\n",
    "\n",
    "torch_data = TensorDataset(X_train, y_train)\n",
    "data_loader = DataLoader(torch_data, batch_size=1000)"
   ]
  },
  {
   "cell_type": "code",
   "execution_count": 5,
   "metadata": {},
   "outputs": [
    {
     "name": "stdout",
     "output_type": "stream",
     "text": [
      "epoch:  0, loss: 0.31171560287475586\n",
      "epoch:  1, loss: 0.26737523078918457\n",
      "epoch:  2, loss: 0.22772300243377686\n",
      "epoch:  3, loss: 0.18520526587963104\n",
      "epoch:  4, loss: 0.15483850240707397\n",
      "epoch:  5, loss: 0.12840354442596436\n",
      "epoch:  6, loss: 0.10792700946331024\n",
      "epoch:  7, loss: 0.09030798077583313\n",
      "epoch:  8, loss: 0.03251875936985016\n",
      "epoch:  9, loss: 0.022268908098340034\n",
      "epoch:  10, loss: 0.008876972831785679\n",
      "epoch:  11, loss: 0.007357653230428696\n",
      "epoch:  12, loss: 0.005582398269325495\n",
      "epoch:  13, loss: 0.004710434004664421\n",
      "epoch:  14, loss: 0.004139022435992956\n",
      "epoch:  15, loss: 0.003698639338836074\n",
      "epoch:  16, loss: 0.0033522399608045816\n",
      "epoch:  17, loss: 0.0030748117715120316\n",
      "epoch:  18, loss: 0.0028420102316886187\n",
      "epoch:  19, loss: 0.0026273555122315884\n",
      "epoch:  20, loss: 0.0024343375116586685\n",
      "epoch:  21, loss: 0.002265036106109619\n",
      "epoch:  22, loss: 0.00212148972786963\n",
      "epoch:  23, loss: 0.001995473401620984\n",
      "epoch:  24, loss: 0.0018875912064686418\n",
      "epoch:  25, loss: 0.0017866977723315358\n",
      "epoch:  26, loss: 0.0017033371841534972\n",
      "epoch:  27, loss: 0.0016291727079078555\n",
      "epoch:  28, loss: 0.0015549551462754607\n",
      "epoch:  29, loss: 0.0014834814937785268\n",
      "epoch:  30, loss: 0.00141662557143718\n",
      "epoch:  31, loss: 0.001360520371235907\n",
      "epoch:  32, loss: 0.0013140393421053886\n",
      "epoch:  33, loss: 0.0012739001540467143\n",
      "epoch:  34, loss: 0.0012332682963460684\n",
      "epoch:  35, loss: 0.0011989012127742171\n",
      "epoch:  36, loss: 0.0011632138630375266\n",
      "epoch:  37, loss: 0.001130453310906887\n",
      "epoch:  38, loss: 0.0010990905575454235\n",
      "epoch:  39, loss: 0.0010734191164374352\n",
      "epoch:  40, loss: 0.001048061647452414\n",
      "epoch:  41, loss: 0.0010280406568199396\n",
      "epoch:  42, loss: 0.001007094862870872\n",
      "epoch:  43, loss: 0.000988564919680357\n",
      "epoch:  44, loss: 0.0009836473036557436\n",
      "epoch:  45, loss: 0.0009136135340668261\n",
      "epoch:  46, loss: 0.0008833064930513501\n",
      "epoch:  47, loss: 0.0008626924245618284\n",
      "epoch:  48, loss: 0.0008454436319880188\n",
      "epoch:  49, loss: 0.000828071846626699\n",
      "epoch:  50, loss: 0.0008131811628118157\n",
      "epoch:  51, loss: 0.0008023652480915189\n",
      "epoch:  52, loss: 0.0007909011328592896\n",
      "epoch:  53, loss: 0.0007788363727740943\n",
      "epoch:  54, loss: 0.0007670526392757893\n",
      "epoch:  55, loss: 0.0007573406328447163\n",
      "epoch:  56, loss: 0.0007464620284736156\n",
      "epoch:  57, loss: 0.0007369156810455024\n",
      "epoch:  58, loss: 0.0007258158875629306\n",
      "epoch:  59, loss: 0.0007178194355219603\n",
      "epoch:  60, loss: 0.0007099306676536798\n",
      "epoch:  61, loss: 0.0007017513271421194\n",
      "epoch:  62, loss: 0.0006955050630494952\n",
      "epoch:  63, loss: 0.0006879658321850002\n",
      "epoch:  64, loss: 0.0006805651355534792\n",
      "epoch:  65, loss: 0.0006732976180501282\n",
      "epoch:  66, loss: 0.0006650439463555813\n",
      "epoch:  67, loss: 0.0006579963373951614\n",
      "epoch:  68, loss: 0.0006514258566312492\n",
      "epoch:  69, loss: 0.000643835635855794\n",
      "epoch:  70, loss: 0.0006384835578501225\n",
      "epoch:  71, loss: 0.0006328921299427748\n",
      "epoch:  72, loss: 0.0006272232276387513\n",
      "epoch:  73, loss: 0.0006205312674865127\n",
      "epoch:  74, loss: 0.0006184102385304868\n",
      "epoch:  75, loss: 0.0006128122913651168\n",
      "epoch:  76, loss: 0.0006081702304072678\n",
      "epoch:  77, loss: 0.0006042695022188127\n",
      "epoch:  78, loss: 0.0005994330858811736\n",
      "epoch:  79, loss: 0.0005964888259768486\n",
      "epoch:  80, loss: 0.0005923124263063073\n",
      "epoch:  81, loss: 0.0005910902982577682\n",
      "epoch:  82, loss: 0.0005855810013599694\n",
      "epoch:  83, loss: 0.0005813216557726264\n",
      "epoch:  84, loss: 0.0005787459085695446\n",
      "epoch:  85, loss: 0.0005750611890107393\n",
      "epoch:  86, loss: 0.0005712327547371387\n",
      "epoch:  87, loss: 0.0005689340177923441\n",
      "epoch:  88, loss: 0.0005669789388775826\n",
      "epoch:  89, loss: 0.0005630905507132411\n",
      "epoch:  90, loss: 0.0005596260889433324\n",
      "epoch:  91, loss: 0.0005573657690547407\n",
      "epoch:  92, loss: 0.0005543327424675226\n",
      "epoch:  93, loss: 0.0005506542511284351\n",
      "epoch:  94, loss: 0.0005481591215357184\n",
      "epoch:  95, loss: 0.0005448756855912507\n",
      "epoch:  96, loss: 0.0005428483127616346\n",
      "epoch:  97, loss: 0.0005397683707997203\n",
      "epoch:  98, loss: 0.0005373251624405384\n",
      "epoch:  99, loss: 0.0005335288587957621\n"
     ]
    }
   ],
   "source": [
    "model = Net(input_size=X.shape[1], device=device)\n",
    "loss_fn = nn.MSELoss()\n",
    "\n",
    "opt = torch_numopt.NewtonRaphson(params=model.parameters(), model=model, lr=1, c1=1e-4, tau=0.1, line_search_method=\"backtrack\", line_search_cond=\"armijo\")\n",
    "# opt = torch_numopt.NewtonRaphson(params=model.parameters(), model=model, lr=1, c1=1e-4, tau=0.5, line_search_method=\"backtrack\", line_search_cond=\"wolfe\")\n",
    "# opt = torch_numopt.NewtonRaphson(params=model.parameters(), model=model, lr=1, c1=1e-4, tau=0.5, line_search_method=\"backtrack\", line_search_cond=\"strong-wolfe\")\n",
    "# opt = torch_numopt.NewtonRaphson(params=model.parameters(), model=model, lr=1, c1=1e-4, tau=0.5, line_search_method=\"backtrack\", line_search_cond=\"goldstein\")\n",
    "\n",
    "all_loss = {}\n",
    "for epoch in range(100):\n",
    "    print(\"epoch: \", epoch, end=\"\")\n",
    "    all_loss[epoch + 1] = 0\n",
    "    for batch_idx, (b_x, b_y) in enumerate(data_loader):\n",
    "        pre = model(b_x)\n",
    "        loss = loss_fn(pre, b_y)\n",
    "        opt.zero_grad()\n",
    "        loss.backward()\n",
    "\n",
    "        # parameter update step based on optimizer\n",
    "        opt.step(b_x, b_y, loss_fn)\n",
    "\n",
    "        all_loss[epoch + 1] += loss\n",
    "    all_loss[epoch + 1] /= len(data_loader)\n",
    "    print(\", loss: {}\".format(all_loss[epoch + 1].detach().numpy().item()))"
   ]
  },
  {
   "cell_type": "code",
   "execution_count": 6,
   "metadata": {},
   "outputs": [
    {
     "name": "stdout",
     "output_type": "stream",
     "text": [
      "Train metrics: R2 = 0.9855060618900362\n",
      "Test metrics:  R2 = 0.886105711037804\n"
     ]
    }
   ],
   "source": [
    "pred_train = model.forward(X_train).detach()\n",
    "pred_test = model.forward(X_test).detach()\n",
    "print(f\"Train metrics: R2 = {r2_score(pred_train, y_train)}\")\n",
    "print(f\"Test metrics:  R2 = {r2_score(pred_test, y_test)}\")"
   ]
  }
 ],
 "metadata": {
  "kernelspec": {
   "display_name": "ml",
   "language": "python",
   "name": "python3"
  },
  "language_info": {
   "codemirror_mode": {
    "name": "ipython",
    "version": 3
   },
   "file_extension": ".py",
   "mimetype": "text/x-python",
   "name": "python",
   "nbconvert_exporter": "python",
   "pygments_lexer": "ipython3",
   "version": "3.10.11"
  }
 },
 "nbformat": 4,
 "nbformat_minor": 2
}
