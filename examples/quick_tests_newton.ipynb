{
 "cells": [
  {
   "cell_type": "code",
   "execution_count": 1,
   "metadata": {},
   "outputs": [],
   "source": [
    "import torch\n",
    "import torch.nn as nn\n",
    "import torch.optim as optim\n",
    "import torch_numopt\n",
    "import numpy as np\n",
    "import matplotlib.pyplot as plt\n",
    "from torch.utils.data import DataLoader, TensorDataset\n",
    "from sklearn.datasets import *\n",
    "from sklearn.preprocessing import MinMaxScaler\n",
    "from sklearn.model_selection import train_test_split\n",
    "from sklearn.metrics import r2_score, mean_absolute_error"
   ]
  },
  {
   "cell_type": "code",
   "execution_count": 2,
   "metadata": {},
   "outputs": [],
   "source": [
    "device = \"cuda\" if torch.cuda.is_available() else \"cpu\""
   ]
  },
  {
   "cell_type": "code",
   "execution_count": 3,
   "metadata": {},
   "outputs": [],
   "source": [
    "class Net(nn.Module):\n",
    "    def __init__(self, input_size, device=\"cpu\"):\n",
    "        super().__init__()\n",
    "        self.f1 = nn.Linear(input_size, 10, device=device)\n",
    "        self.f2 = nn.Linear(10, 20, device=device)\n",
    "        self.f3 = nn.Linear(20, 20, device=device)\n",
    "        self.f4 = nn.Linear(20, 10, device=device)\n",
    "        self.f5 = nn.Linear(10, 1, device=device)\n",
    "\n",
    "        self.activation = nn.ReLU()\n",
    "        # self.activation = nn.Sigmoid()\n",
    "\n",
    "    def forward(self, x):\n",
    "        x = self.activation(self.f1(x))\n",
    "        x = self.activation(self.f2(x))\n",
    "        x = self.activation(self.f3(x))\n",
    "        x = self.activation(self.f4(x))\n",
    "        x = self.f5(x)\n",
    "\n",
    "        return x"
   ]
  },
  {
   "cell_type": "code",
   "execution_count": 4,
   "metadata": {},
   "outputs": [
    {
     "name": "stdout",
     "output_type": "stream",
     "text": [
      "torch.Size([800, 10]) torch.Size([800, 1])\n",
      "torch.Size([200, 10]) torch.Size([200, 1])\n"
     ]
    }
   ],
   "source": [
    "# X, y = load_diabetes(return_X_y=True, scaled=False)\n",
    "# X, y = make_regression(n_samples=1000, n_features=100)\n",
    "X, y = make_friedman1(n_samples=1000, noise=1e-2)\n",
    "\n",
    "X_scaler = MinMaxScaler()\n",
    "X = X_scaler.fit_transform(X)\n",
    "X = torch.Tensor(X).to(device)\n",
    "\n",
    "y_scaler = MinMaxScaler()\n",
    "y = y_scaler.fit_transform(y.reshape((-1, 1)))\n",
    "y = torch.Tensor(y).to(device)\n",
    "\n",
    "X_train, X_test, y_train, y_test = train_test_split(X, y, test_size=0.2)\n",
    "print(X_train.shape, y_train.shape)\n",
    "print(X_test.shape, y_test.shape)\n",
    "\n",
    "torch_data = TensorDataset(X_train, y_train)\n",
    "data_loader = DataLoader(torch_data, batch_size=1000)"
   ]
  },
  {
   "cell_type": "code",
   "execution_count": 5,
   "metadata": {},
   "outputs": [
    {
     "name": "stdout",
     "output_type": "stream",
     "text": [
      "epoch:  0, loss: 0.20890073478221893\n",
      "epoch:  1, loss: 0.15514853596687317\n",
      "epoch:  2, loss: 0.12523309886455536\n",
      "epoch:  3, loss: 0.11414235830307007\n",
      "epoch:  4, loss: 0.09460048377513885\n",
      "epoch:  5, loss: 0.09309366345405579\n",
      "epoch:  6, loss: 0.07414036244153976\n",
      "epoch:  7, loss: 0.0456562414765358\n",
      "epoch:  8, loss: 0.03521569073200226\n",
      "epoch:  9, loss: 0.020663946866989136\n",
      "epoch:  10, loss: 0.010952060110867023\n",
      "epoch:  11, loss: 0.008714105002582073\n",
      "epoch:  12, loss: 0.008548872545361519\n",
      "epoch:  13, loss: 0.007663221564143896\n",
      "epoch:  14, loss: 0.006856064777821302\n",
      "epoch:  15, loss: 0.006354074459522963\n",
      "epoch:  16, loss: 0.0057979063130915165\n",
      "epoch:  17, loss: 0.005409577861428261\n",
      "epoch:  18, loss: 0.005365962162613869\n",
      "epoch:  19, loss: 0.005069286562502384\n",
      "epoch:  20, loss: 0.00483857374638319\n",
      "epoch:  21, loss: 0.004717732779681683\n",
      "epoch:  22, loss: 0.0045348466373980045\n",
      "epoch:  23, loss: 0.004500037990510464\n",
      "epoch:  24, loss: 0.004306017886847258\n",
      "epoch:  25, loss: 0.0042030359618365765\n",
      "epoch:  26, loss: 0.00399738596752286\n",
      "epoch:  27, loss: 0.0038773762062191963\n",
      "epoch:  28, loss: 0.003777090460062027\n",
      "epoch:  29, loss: 0.0036855172365903854\n",
      "epoch:  30, loss: 0.003641246585175395\n",
      "epoch:  31, loss: 0.003522309008985758\n",
      "epoch:  32, loss: 0.003503224113956094\n",
      "epoch:  33, loss: 0.0034290486946702003\n",
      "epoch:  34, loss: 0.0034194982144981623\n",
      "epoch:  35, loss: 0.0033684249501675367\n",
      "epoch:  36, loss: 0.003322480944916606\n",
      "epoch:  37, loss: 0.0032820040360093117\n",
      "epoch:  38, loss: 0.0032552576158195734\n",
      "epoch:  39, loss: 0.0032250499352812767\n",
      "epoch:  40, loss: 0.0031878198496997356\n",
      "epoch:  41, loss: 0.0031510391272604465\n",
      "epoch:  42, loss: 0.003122440306469798\n",
      "epoch:  43, loss: 0.003100140718743205\n",
      "epoch:  44, loss: 0.003072596387937665\n",
      "epoch:  45, loss: 0.0030478762928396463\n",
      "epoch:  46, loss: 0.0030248367693275213\n",
      "epoch:  47, loss: 0.0030014687217772007\n",
      "epoch:  48, loss: 0.002989767352119088\n",
      "epoch:  49, loss: 0.002970303874462843\n",
      "epoch:  50, loss: 0.0029640905559062958\n",
      "epoch:  51, loss: 0.0029312956612557173\n",
      "epoch:  52, loss: 0.0029216420371085405\n",
      "epoch:  53, loss: 0.002905061235651374\n",
      "epoch:  54, loss: 0.0029017680790275335\n",
      "epoch:  55, loss: 0.002875356934964657\n",
      "epoch:  56, loss: 0.00286744418554008\n",
      "epoch:  57, loss: 0.0028617733623832464\n",
      "epoch:  58, loss: 0.0028445266652852297\n",
      "epoch:  59, loss: 0.0028344530146569014\n",
      "epoch:  60, loss: 0.0028266774024814367\n",
      "epoch:  61, loss: 0.0028160035144537687\n",
      "epoch:  62, loss: 0.0028040381148457527\n",
      "epoch:  63, loss: 0.0027941041626036167\n",
      "epoch:  64, loss: 0.002785136690363288\n",
      "epoch:  65, loss: 0.002779003232717514\n",
      "epoch:  66, loss: 0.002750460524111986\n",
      "epoch:  67, loss: 0.0027448737528175116\n",
      "epoch:  68, loss: 0.0027411323972046375\n",
      "epoch:  69, loss: 0.002737978706136346\n",
      "epoch:  70, loss: 0.0027352648321539164\n",
      "epoch:  71, loss: 0.0027321751695126295\n",
      "epoch:  72, loss: 0.002730508567765355\n",
      "epoch:  73, loss: 0.0027286852709949017\n",
      "epoch:  74, loss: 0.0027273937594145536\n",
      "epoch:  75, loss: 0.0027249492704868317\n",
      "epoch:  76, loss: 0.002724216552451253\n",
      "epoch:  77, loss: 0.002722617005929351\n",
      "epoch:  78, loss: 0.0027209597174078226\n",
      "epoch:  79, loss: 0.002720568096265197\n",
      "epoch:  80, loss: 0.002718603005632758\n",
      "epoch:  81, loss: 0.0027177261654287577\n",
      "epoch:  82, loss: 0.002717434661462903\n",
      "epoch:  83, loss: 0.0027174174319952726\n",
      "epoch:  84, loss: 0.002717257011681795\n",
      "epoch:  85, loss: 0.0027153592091053724\n",
      "epoch:  86, loss: 0.0027151654940098524\n",
      "epoch:  87, loss: 0.002713295863941312\n",
      "epoch:  88, loss: 0.0027129917871207\n",
      "epoch:  89, loss: 0.0027119505684822798\n",
      "epoch:  90, loss: 0.0027103573083877563\n",
      "epoch:  91, loss: 0.0027101507876068354\n",
      "epoch:  92, loss: 0.002708679297938943\n",
      "epoch:  93, loss: 0.0027085202746093273\n",
      "epoch:  94, loss: 0.0027082012966275215\n",
      "epoch:  95, loss: 0.0027078629937022924\n",
      "epoch:  96, loss: 0.00270624877884984\n",
      "epoch:  97, loss: 0.002704874612390995\n",
      "epoch:  98, loss: 0.002704514190554619\n",
      "epoch:  99, loss: 0.002703725127503276\n"
     ]
    }
   ],
   "source": [
    "model = Net(input_size=X.shape[1], device=device)\n",
    "loss_fn = nn.MSELoss()\n",
    "\n",
    "opt = torch_numopt.NewtonRaphson(params=model.parameters(), model=model, lr=1, c1=1e-4, tau=0.1, line_search_method=\"backtrack\", line_search_cond=\"armijo\")\n",
    "# opt = torch_numopt.NewtonRaphson(params=model.parameters(), model=model, lr=1, c1=1e-4, tau=0.5, line_search_method=\"backtrack\", line_search_cond=\"wolfe\")\n",
    "# opt = torch_numopt.NewtonRaphson(params=model.parameters(), model=model, lr=1, c1=1e-4, tau=0.5, line_search_method=\"backtrack\", line_search_cond=\"strong-wolfe\")\n",
    "# opt = torch_numopt.NewtonRaphson(params=model.parameters(), model=model, lr=1, c1=1e-4, tau=0.5, line_search_method=\"backtrack\", line_search_cond=\"goldstein\")\n",
    "\n",
    "all_loss = {}\n",
    "for epoch in range(100):\n",
    "    print(\"epoch: \", epoch, end=\"\")\n",
    "    all_loss[epoch + 1] = 0\n",
    "    for batch_idx, (b_x, b_y) in enumerate(data_loader):\n",
    "        pre = model(b_x)\n",
    "        loss = loss_fn(pre, b_y)\n",
    "        opt.zero_grad()\n",
    "        loss.backward()\n",
    "\n",
    "        # parameter update step based on optimizer\n",
    "        opt.step(b_x, b_y, loss_fn)\n",
    "\n",
    "        all_loss[epoch + 1] += loss\n",
    "    all_loss[epoch + 1] /= len(data_loader)\n",
    "    print(\", loss: {}\".format(all_loss[epoch + 1].cpu().detach().numpy().item()))"
   ]
  },
  {
   "cell_type": "code",
   "execution_count": 6,
   "metadata": {},
   "outputs": [
    {
     "name": "stdout",
     "output_type": "stream",
     "text": [
      "Train metrics: R2 = 0.9193402916018395\n",
      "Test metrics:  R2 = 0.6697263647886363\n"
     ]
    }
   ],
   "source": [
    "pred_train = model.forward(X_train).cpu().detach()\n",
    "pred_test = model.forward(X_test).cpu().detach()\n",
    "print(f\"Train metrics: R2 = {r2_score(pred_train, y_train.cpu())}\")\n",
    "print(f\"Test metrics:  R2 = {r2_score(pred_test, y_test.cpu())}\")"
   ]
  }
 ],
 "metadata": {
  "kernelspec": {
   "display_name": "torch_numopt",
   "language": "python",
   "name": "python3"
  },
  "language_info": {
   "codemirror_mode": {
    "name": "ipython",
    "version": 3
   },
   "file_extension": ".py",
   "mimetype": "text/x-python",
   "name": "python",
   "nbconvert_exporter": "python",
   "pygments_lexer": "ipython3",
   "version": "3.10.16"
  }
 },
 "nbformat": 4,
 "nbformat_minor": 2
}
