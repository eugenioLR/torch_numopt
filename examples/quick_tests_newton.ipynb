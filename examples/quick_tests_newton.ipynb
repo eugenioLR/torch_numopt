{
 "cells": [
  {
   "cell_type": "code",
   "execution_count": 1,
   "metadata": {},
   "outputs": [],
   "source": [
    "import torch\n",
    "import torch.nn as nn\n",
    "import torch.optim as optim\n",
    "import torch_numopt\n",
    "import numpy as np\n",
    "import matplotlib.pyplot as plt\n",
    "from torch.utils.data import DataLoader, TensorDataset\n",
    "from sklearn.datasets import *\n",
    "from sklearn.preprocessing import MinMaxScaler\n",
    "from sklearn.model_selection import train_test_split\n",
    "from sklearn.metrics import r2_score, mean_absolute_error"
   ]
  },
  {
   "cell_type": "code",
   "execution_count": 2,
   "metadata": {},
   "outputs": [],
   "source": [
    "device = \"cpu\""
   ]
  },
  {
   "cell_type": "code",
   "execution_count": 3,
   "metadata": {},
   "outputs": [],
   "source": [
    "class Net(nn.Module):\n",
    "    def __init__(self, input_size, device=\"cpu\"):\n",
    "        super().__init__()\n",
    "        self.f1 = nn.Linear(input_size, 10, device=device)\n",
    "        self.f2 = nn.Linear(10, 20, device=device)\n",
    "        self.f3 = nn.Linear(20, 20, device=device)\n",
    "        self.f4 = nn.Linear(20, 10, device=device)\n",
    "        self.f5 = nn.Linear(10, 1, device=device)\n",
    "\n",
    "        self.activation = nn.ReLU()\n",
    "        # self.activation = nn.Sigmoid()\n",
    "\n",
    "    def forward(self, x):\n",
    "        x = self.activation(self.f1(x))\n",
    "        x = self.activation(self.f2(x))\n",
    "        x = self.activation(self.f3(x))\n",
    "        x = self.activation(self.f4(x))\n",
    "        x = self.f5(x)\n",
    "\n",
    "        return x"
   ]
  },
  {
   "cell_type": "code",
   "execution_count": 4,
   "metadata": {},
   "outputs": [
    {
     "name": "stdout",
     "output_type": "stream",
     "text": [
      "torch.Size([800, 10]) torch.Size([800, 1])\n",
      "torch.Size([200, 10]) torch.Size([200, 1])\n"
     ]
    }
   ],
   "source": [
    "# X, y = load_diabetes(return_X_y=True, scaled=False)\n",
    "# X, y = make_regression(n_samples=1000, n_features=100)\n",
    "X, y = make_friedman1(n_samples=1000, noise=1e-2)\n",
    "\n",
    "X_scaler = MinMaxScaler()\n",
    "X = X_scaler.fit_transform(X)\n",
    "X = torch.Tensor(X).to(device)\n",
    "\n",
    "y_scaler = MinMaxScaler()\n",
    "y = y_scaler.fit_transform(y.reshape((-1, 1)))\n",
    "y = torch.Tensor(y).to(device)\n",
    "\n",
    "X_train, X_test, y_train, y_test = train_test_split(X, y, test_size=0.2)\n",
    "print(X_train.shape, y_train.shape)\n",
    "print(X_test.shape, y_test.shape)\n",
    "\n",
    "torch_data = TensorDataset(X_train, y_train)\n",
    "data_loader = DataLoader(torch_data, batch_size=1000)"
   ]
  },
  {
   "cell_type": "code",
   "execution_count": 5,
   "metadata": {},
   "outputs": [
    {
     "name": "stdout",
     "output_type": "stream",
     "text": [
      "epoch:  0, loss: 0.5779250860214233\n",
      "epoch:  1, loss: 0.5340166687965393\n",
      "epoch:  2, loss: 0.4522440731525421\n",
      "epoch:  3, loss: 0.3969377875328064\n",
      "epoch:  4, loss: 0.3078305423259735\n",
      "epoch:  5, loss: 0.2600737512111664\n",
      "epoch:  6, loss: 0.22833427786827087\n",
      "epoch:  7, loss: 0.10733741521835327\n",
      "epoch:  8, loss: 0.03178950399160385\n",
      "epoch:  9, loss: 0.014663483016192913\n",
      "epoch:  10, loss: 0.009310774505138397\n",
      "epoch:  11, loss: 0.006686369888484478\n",
      "epoch:  12, loss: 0.005458155181258917\n",
      "epoch:  13, loss: 0.004702840466052294\n",
      "epoch:  14, loss: 0.004429792985320091\n",
      "epoch:  15, loss: 0.003807671368122101\n",
      "epoch:  16, loss: 0.0034234083723276854\n",
      "epoch:  17, loss: 0.0031139745842665434\n",
      "epoch:  18, loss: 0.002875313861295581\n",
      "epoch:  19, loss: 0.0026836416218429804\n",
      "epoch:  20, loss: 0.0025256769731640816\n",
      "epoch:  21, loss: 0.002386905951425433\n",
      "epoch:  22, loss: 0.0021789115853607655\n",
      "epoch:  23, loss: 0.001604268210940063\n",
      "epoch:  24, loss: 0.00144855584949255\n",
      "epoch:  25, loss: 0.0013612632174044847\n",
      "epoch:  26, loss: 0.0010986296692863107\n",
      "epoch:  27, loss: 0.0009849006310105324\n",
      "epoch:  28, loss: 0.0009323121630586684\n",
      "epoch:  29, loss: 0.0008897194056771696\n",
      "epoch:  30, loss: 0.0008532050997018814\n",
      "epoch:  31, loss: 0.000825515715405345\n",
      "epoch:  32, loss: 0.0008074407815001905\n",
      "epoch:  33, loss: 0.0007206554873846471\n",
      "epoch:  34, loss: 0.0006631261203438044\n",
      "epoch:  35, loss: 0.0006383375730365515\n",
      "epoch:  36, loss: 0.0006162805948406458\n",
      "epoch:  37, loss: 0.0005383981042541564\n",
      "epoch:  38, loss: 0.0005062574055045843\n",
      "epoch:  39, loss: 0.00046456680865958333\n",
      "epoch:  40, loss: 0.00041997162043116987\n",
      "epoch:  41, loss: 0.00039964672760106623\n",
      "epoch:  42, loss: 0.0003993415739387274\n",
      "epoch:  43, loss: 0.00034663573023863137\n",
      "epoch:  44, loss: 0.0003292545734439045\n",
      "epoch:  45, loss: 0.00031628983560949564\n",
      "epoch:  46, loss: 0.00030641534249298275\n",
      "epoch:  47, loss: 0.00028608657885342836\n",
      "epoch:  48, loss: 0.00027707056142389774\n",
      "epoch:  49, loss: 0.00027153448900207877\n",
      "epoch:  50, loss: 0.00026775235892273486\n",
      "epoch:  51, loss: 0.00025919071049429476\n",
      "epoch:  52, loss: 0.00024855000083334744\n",
      "epoch:  53, loss: 0.00024370793835259974\n",
      "epoch:  54, loss: 0.00024285419203806669\n",
      "epoch:  55, loss: 0.00023129813780542463\n",
      "epoch:  56, loss: 0.00022602520766668022\n",
      "epoch:  57, loss: 0.00022495267330668867\n",
      "epoch:  58, loss: 0.0002113765076501295\n",
      "epoch:  59, loss: 0.0002064174914266914\n",
      "epoch:  60, loss: 0.0002038045640802011\n",
      "epoch:  61, loss: 0.0002015728532569483\n",
      "epoch:  62, loss: 0.0001960877125384286\n",
      "epoch:  63, loss: 0.00019029340182896703\n",
      "epoch:  64, loss: 0.00018671888392418623\n",
      "epoch:  65, loss: 0.00018450923380441964\n",
      "epoch:  66, loss: 0.00018233411537948996\n",
      "epoch:  67, loss: 0.00017702388868201524\n",
      "epoch:  68, loss: 0.0001743366738082841\n",
      "epoch:  69, loss: 0.0001721175212878734\n",
      "epoch:  70, loss: 0.00017128066974692047\n",
      "epoch:  71, loss: 0.0001652334030950442\n",
      "epoch:  72, loss: 0.00016280404815915972\n",
      "epoch:  73, loss: 0.00016114540630951524\n",
      "epoch:  74, loss: 0.00016007438534870744\n",
      "epoch:  75, loss: 0.00015931538655422628\n",
      "epoch:  76, loss: 0.00015734769112896174\n",
      "epoch:  77, loss: 0.00015539080777671188\n",
      "epoch:  78, loss: 0.00015380508557427675\n",
      "epoch:  79, loss: 0.00015084378537721932\n",
      "epoch:  80, loss: 0.00014889684098307043\n",
      "epoch:  81, loss: 0.000147626458783634\n",
      "epoch:  82, loss: 0.00014747935347259045\n",
      "epoch:  83, loss: 0.00014345017552841455\n",
      "epoch:  84, loss: 0.0001417028543073684\n",
      "epoch:  85, loss: 0.0001406403462169692\n",
      "epoch:  86, loss: 0.0001382372429361567\n",
      "epoch:  87, loss: 0.00013564877735916525\n",
      "epoch:  88, loss: 0.00013404752826318145\n",
      "epoch:  89, loss: 0.00013290524657350034\n",
      "epoch:  90, loss: 0.0001321395975537598\n",
      "epoch:  91, loss: 0.00012991766561754048\n",
      "epoch:  92, loss: 0.00012875659740529954\n",
      "epoch:  93, loss: 0.00012822241114918143\n",
      "epoch:  94, loss: 0.00012772678746841848\n",
      "epoch:  95, loss: 0.0001272889639949426\n",
      "epoch:  96, loss: 0.0001269327476620674\n",
      "epoch:  97, loss: 0.0001266754261450842\n",
      "epoch:  98, loss: 0.00012642443471122533\n",
      "epoch:  99, loss: 0.00012616558524314314\n"
     ]
    }
   ],
   "source": [
    "model = Net(input_size=X.shape[1], device=device)\n",
    "loss_fn = nn.MSELoss()\n",
    "\n",
    "opt = torch_numopt.NewtonRaphson(params=model.parameters(), model=model, lr=1, c1=1e-4, tau=0.1, line_search_method=\"backtrack\", line_search_cond=\"armijo\")\n",
    "# opt = torch_numopt.NewtonRaphson(params=model.parameters(), model=model, lr=1, c1=1e-4, tau=0.5, line_search_method=\"backtrack\", line_search_cond=\"wolfe\")\n",
    "# opt = torch_numopt.NewtonRaphson(params=model.parameters(), model=model, lr=1, c1=1e-4, tau=0.5, line_search_method=\"backtrack\", line_search_cond=\"strong-wolfe\")\n",
    "# opt = torch_numopt.NewtonRaphson(params=model.parameters(), model=model, lr=1, c1=1e-4, tau=0.5, line_search_method=\"backtrack\", line_search_cond=\"goldstein\")\n",
    "\n",
    "all_loss = {}\n",
    "for epoch in range(100):\n",
    "    print(\"epoch: \", epoch, end=\"\")\n",
    "    all_loss[epoch + 1] = 0\n",
    "    for batch_idx, (b_x, b_y) in enumerate(data_loader):\n",
    "        pre = model(b_x)\n",
    "        loss = loss_fn(pre, b_y)\n",
    "        opt.zero_grad()\n",
    "        loss.backward()\n",
    "\n",
    "        # parameter update step based on optimizer\n",
    "        opt.step(b_x, b_y, loss_fn)\n",
    "\n",
    "        all_loss[epoch + 1] += loss\n",
    "    all_loss[epoch + 1] /= len(data_loader)\n",
    "    print(\", loss: {}\".format(all_loss[epoch + 1].detach().numpy().item()))"
   ]
  },
  {
   "cell_type": "code",
   "execution_count": 6,
   "metadata": {},
   "outputs": [
    {
     "name": "stdout",
     "output_type": "stream",
     "text": [
      "Train metrics: R2 = 0.996443746777081\n",
      "Test metrics:  R2 = 0.9893204152202499\n"
     ]
    }
   ],
   "source": [
    "pred_train = model.forward(X_train).detach()\n",
    "pred_test = model.forward(X_test).detach()\n",
    "print(f\"Train metrics: R2 = {r2_score(pred_train, y_train)}\")\n",
    "print(f\"Test metrics:  R2 = {r2_score(pred_test, y_test)}\")"
   ]
  }
 ],
 "metadata": {
  "kernelspec": {
   "display_name": "ml",
   "language": "python",
   "name": "python3"
  },
  "language_info": {
   "codemirror_mode": {
    "name": "ipython",
    "version": 3
   },
   "file_extension": ".py",
   "mimetype": "text/x-python",
   "name": "python",
   "nbconvert_exporter": "python",
   "pygments_lexer": "ipython3",
   "version": "3.10.11"
  }
 },
 "nbformat": 4,
 "nbformat_minor": 2
}
