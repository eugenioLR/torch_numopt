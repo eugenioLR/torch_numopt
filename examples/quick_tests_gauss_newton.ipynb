{
 "cells": [
  {
   "cell_type": "code",
   "execution_count": 1,
   "metadata": {},
   "outputs": [],
   "source": [
    "import torch\n",
    "import torch.nn as nn\n",
    "import torch.optim as optim\n",
    "import torch_numopt\n",
    "import numpy as np\n",
    "import matplotlib.pyplot as plt\n",
    "from torch.utils.data import DataLoader, TensorDataset\n",
    "from sklearn.datasets import *\n",
    "from sklearn.preprocessing import MinMaxScaler\n",
    "from sklearn.model_selection import train_test_split\n",
    "from sklearn.metrics import r2_score, mean_absolute_error"
   ]
  },
  {
   "cell_type": "code",
   "execution_count": 2,
   "metadata": {},
   "outputs": [],
   "source": [
    "device = \"cuda\" if torch.cuda.is_available() else \"cpu\""
   ]
  },
  {
   "cell_type": "code",
   "execution_count": 3,
   "metadata": {},
   "outputs": [],
   "source": [
    "class Net(nn.Module):\n",
    "    def __init__(self, input_size, device=\"cpu\"):\n",
    "        super().__init__()\n",
    "        self.f1 = nn.Linear(input_size, 10, device=device)\n",
    "        self.f2 = nn.Linear(10, 20, device=device)\n",
    "        self.f3 = nn.Linear(20, 20, device=device)\n",
    "        self.f4 = nn.Linear(20, 10, device=device)\n",
    "        self.f5 = nn.Linear(10, 1, device=device)\n",
    "\n",
    "        self.activation = nn.ReLU()\n",
    "        # self.activation = nn.Sigmoid()\n",
    "\n",
    "    def forward(self, x):\n",
    "        x = self.activation(self.f1(x))\n",
    "        x = self.activation(self.f2(x))\n",
    "        x = self.activation(self.f3(x))\n",
    "        x = self.activation(self.f4(x))\n",
    "        x = self.f5(x)\n",
    "\n",
    "        return x"
   ]
  },
  {
   "cell_type": "code",
   "execution_count": 4,
   "metadata": {},
   "outputs": [
    {
     "name": "stdout",
     "output_type": "stream",
     "text": [
      "torch.Size([800, 10]) torch.Size([800, 1])\n",
      "torch.Size([200, 10]) torch.Size([200, 1])\n"
     ]
    }
   ],
   "source": [
    "# X, y = load_diabetes(return_X_y=True, scaled=False)\n",
    "# X, y = make_regression(n_samples=1000, n_features=100)\n",
    "X, y = make_friedman1(n_samples=1000, noise=1e-2)\n",
    "\n",
    "X_scaler = MinMaxScaler()\n",
    "X = X_scaler.fit_transform(X)\n",
    "X = torch.Tensor(X).to(device)\n",
    "\n",
    "y_scaler = MinMaxScaler()\n",
    "y = y_scaler.fit_transform(y.reshape((-1, 1)))\n",
    "y = torch.Tensor(y).to(device)\n",
    "\n",
    "X_train, X_test, y_train, y_test = train_test_split(X, y, test_size=0.2)\n",
    "print(X_train.shape, y_train.shape)\n",
    "print(X_test.shape, y_test.shape)\n",
    "\n",
    "torch_data = TensorDataset(X_train, y_train)\n",
    "data_loader = DataLoader(torch_data, batch_size=1000)"
   ]
  },
  {
   "cell_type": "code",
   "execution_count": 5,
   "metadata": {},
   "outputs": [
    {
     "name": "stdout",
     "output_type": "stream",
     "text": [
      "epoch:  0, loss: 0.4042733907699585\n",
      "epoch:  1, loss: 0.3784829378128052\n",
      "epoch:  2, loss: 0.3672232925891876\n",
      "epoch:  3, loss: 0.3551924228668213\n",
      "epoch:  4, loss: 0.3431561291217804\n",
      "epoch:  5, loss: 0.3316096067428589\n",
      "epoch:  6, loss: 0.31966471672058105\n",
      "epoch:  7, loss: 0.1922747790813446\n",
      "epoch:  8, loss: 0.18235191702842712\n",
      "epoch:  9, loss: 0.17266036570072174\n",
      "epoch:  10, loss: 0.16348981857299805\n",
      "epoch:  11, loss: 0.15582109987735748\n",
      "epoch:  12, loss: 0.14711883664131165\n",
      "epoch:  13, loss: 0.1385544240474701\n",
      "epoch:  14, loss: 0.13040629029273987\n",
      "epoch:  15, loss: 0.12296199798583984\n",
      "epoch:  16, loss: 0.11569705605506897\n",
      "epoch:  17, loss: 0.10846269875764847\n",
      "epoch:  18, loss: 0.10164673626422882\n",
      "epoch:  19, loss: 0.09523916244506836\n",
      "epoch:  20, loss: 0.08924385905265808\n",
      "epoch:  21, loss: 0.0832870677113533\n",
      "epoch:  22, loss: 0.07872319221496582\n",
      "epoch:  23, loss: 0.07334187626838684\n",
      "epoch:  24, loss: 0.07282468676567078\n",
      "epoch:  25, loss: 0.06768418103456497\n",
      "epoch:  26, loss: 0.06719799339771271\n",
      "epoch:  27, loss: 0.0624852180480957\n",
      "epoch:  28, loss: 0.058152470737695694\n",
      "epoch:  29, loss: 0.054066382348537445\n",
      "epoch:  30, loss: 0.05003013461828232\n",
      "epoch:  31, loss: 0.04622374847531319\n",
      "epoch:  32, loss: 0.04258975014090538\n",
      "epoch:  33, loss: 0.039194073528051376\n",
      "epoch:  34, loss: 0.03612912818789482\n",
      "epoch:  35, loss: 0.033348482102155685\n",
      "epoch:  36, loss: 0.0305998083204031\n",
      "epoch:  37, loss: 0.028040537610650063\n",
      "epoch:  38, loss: 0.02572060562670231\n",
      "epoch:  39, loss: 0.023652179166674614\n",
      "epoch:  40, loss: 0.021551869809627533\n",
      "epoch:  41, loss: 0.0197394248098135\n",
      "epoch:  42, loss: 0.01799827627837658\n",
      "epoch:  43, loss: 0.01641533337533474\n",
      "epoch:  44, loss: 0.015171093866229057\n",
      "epoch:  45, loss: 0.013633891008794308\n",
      "epoch:  46, loss: 0.012536870315670967\n",
      "epoch:  47, loss: 0.011602315120398998\n",
      "epoch:  48, loss: 0.010640599764883518\n",
      "epoch:  49, loss: 0.009972982108592987\n",
      "epoch:  50, loss: 0.009238164871931076\n",
      "epoch:  51, loss: 0.008550053462386131\n",
      "epoch:  52, loss: 0.008057870902121067\n",
      "epoch:  53, loss: 0.007471689023077488\n",
      "epoch:  54, loss: 0.00723245507106185\n",
      "epoch:  55, loss: 0.006764083635061979\n",
      "epoch:  56, loss: 0.006686397362500429\n",
      "epoch:  57, loss: 0.006525082513689995\n",
      "epoch:  58, loss: 0.006461113691329956\n",
      "epoch:  59, loss: 0.006423756014555693\n",
      "epoch:  60, loss: 0.006053443066775799\n",
      "epoch:  61, loss: 0.005703147500753403\n",
      "epoch:  62, loss: 0.005427887663245201\n",
      "epoch:  63, loss: 0.005191332194954157\n",
      "epoch:  64, loss: 0.004826003219932318\n",
      "epoch:  65, loss: 0.004735360853374004\n",
      "epoch:  66, loss: 0.004649845417588949\n",
      "epoch:  67, loss: 0.004587141796946526\n",
      "epoch:  68, loss: 0.00437703775241971\n",
      "epoch:  69, loss: 0.004310209304094315\n",
      "epoch:  70, loss: 0.004087912384420633\n",
      "epoch:  71, loss: 0.004012632183730602\n",
      "epoch:  72, loss: 0.003953835461288691\n",
      "epoch:  73, loss: 0.003942125476896763\n",
      "epoch:  74, loss: 0.003887169761583209\n",
      "epoch:  75, loss: 0.0037239249795675278\n",
      "epoch:  76, loss: 0.003581300377845764\n",
      "epoch:  77, loss: 0.0035482877865433693\n",
      "epoch:  78, loss: 0.0034782676957547665\n",
      "epoch:  79, loss: 0.0033204585779458284\n",
      "epoch:  80, loss: 0.0032402370125055313\n",
      "epoch:  81, loss: 0.003094341140240431\n",
      "epoch:  82, loss: 0.0030086806509643793\n",
      "epoch:  83, loss: 0.002899734303355217\n",
      "epoch:  84, loss: 0.0027970969676971436\n",
      "epoch:  85, loss: 0.002721027471125126\n",
      "epoch:  86, loss: 0.002662043320015073\n",
      "epoch:  87, loss: 0.002615317003801465\n",
      "epoch:  88, loss: 0.0025726803578436375\n",
      "epoch:  89, loss: 0.002540898509323597\n",
      "epoch:  90, loss: 0.0025113767478615046\n",
      "epoch:  91, loss: 0.0024904031306505203\n",
      "epoch:  92, loss: 0.0024636653251945972\n",
      "epoch:  93, loss: 0.0024185488000512123\n",
      "epoch:  94, loss: 0.0023913278710097075\n",
      "epoch:  95, loss: 0.002369231078773737\n",
      "epoch:  96, loss: 0.0023477161303162575\n",
      "epoch:  97, loss: 0.0023150143679231405\n",
      "epoch:  98, loss: 0.002294117584824562\n",
      "epoch:  99, loss: 0.002275419421494007\n"
     ]
    }
   ],
   "source": [
    "model = Net(input_size=X.shape[1], device=device)\n",
    "loss_fn = nn.MSELoss()\n",
    "\n",
    "# opt = torch_numopt.GaussNewton(model=model, lr=1, line_search_method=\"const\")\n",
    "opt = torch_numopt.GaussNewton(model=model, lr=1, c1=1e-4, tau=0.1, line_search_method=\"backtrack\", line_search_cond=\"armijo\")\n",
    "# opt = torch_numopt.GaussNewton(model=model, lr=1, c1=1e-4, tau=0.5, line_search_method='backtrack', line_search_cond='wolfe')\n",
    "# opt = torch_numopt.GaussNewton(model=model, lr=1, c1=1e-4, tau=0.5, line_search_method='backtrack', line_search_cond='strong-wolfe')\n",
    "# opt = torch_numopt.GaussNewton(model=model, lr=1, c1=1e-4, tau=0.5, line_search_method='backtrack', line_search_cond='goldstein')\n",
    "\n",
    "all_loss = {}\n",
    "for epoch in range(100):\n",
    "    print(\"epoch: \", epoch, end=\"\")\n",
    "    all_loss[epoch + 1] = 0\n",
    "    for batch_idx, (b_x, b_y) in enumerate(data_loader):\n",
    "        pre = model(b_x)\n",
    "        loss = loss_fn(pre, b_y)\n",
    "        opt.zero_grad()\n",
    "        loss.backward()\n",
    "\n",
    "        # parameter update step based on optimizer\n",
    "        opt.step(b_x, b_y, loss_fn)\n",
    "\n",
    "        all_loss[epoch + 1] += loss\n",
    "    all_loss[epoch + 1] /= len(data_loader)\n",
    "    print(\", loss: {}\".format(all_loss[epoch + 1].cpu().detach().numpy().item()))"
   ]
  },
  {
   "cell_type": "code",
   "execution_count": 6,
   "metadata": {},
   "outputs": [
    {
     "name": "stdout",
     "output_type": "stream",
     "text": [
      "Train metrics: R2 = 0.9275801862663521\n",
      "Test metrics:  R2 = 0.6842146646443757\n"
     ]
    }
   ],
   "source": [
    "pred_train = model.forward(X_train).cpu().detach()\n",
    "pred_test = model.forward(X_test).cpu().detach()\n",
    "print(f\"Train metrics: R2 = {r2_score(pred_train, y_train.cpu())}\")\n",
    "print(f\"Test metrics:  R2 = {r2_score(pred_test, y_test.cpu())}\")"
   ]
  }
 ],
 "metadata": {
  "kernelspec": {
   "display_name": "torch_numopt",
   "language": "python",
   "name": "python3"
  },
  "language_info": {
   "codemirror_mode": {
    "name": "ipython",
    "version": 3
   },
   "file_extension": ".py",
   "mimetype": "text/x-python",
   "name": "python",
   "nbconvert_exporter": "python",
   "pygments_lexer": "ipython3",
   "version": "3.10.16"
  }
 },
 "nbformat": 4,
 "nbformat_minor": 2
}
