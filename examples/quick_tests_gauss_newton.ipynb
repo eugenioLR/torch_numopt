{
 "cells": [
  {
   "cell_type": "code",
   "execution_count": 1,
   "metadata": {},
   "outputs": [],
   "source": [
    "import torch\n",
    "import torch.nn as nn\n",
    "import torch.optim as optim\n",
    "import torch_numopt\n",
    "import numpy as np\n",
    "import matplotlib.pyplot as plt\n",
    "from torch.utils.data import DataLoader, TensorDataset\n",
    "from sklearn.datasets import *\n",
    "from sklearn.preprocessing import MinMaxScaler\n",
    "from sklearn.model_selection import train_test_split\n",
    "from sklearn.metrics import r2_score, mean_absolute_error"
   ]
  },
  {
   "cell_type": "code",
   "execution_count": 2,
   "metadata": {},
   "outputs": [],
   "source": [
    "device = \"cuda\" if torch.cuda.is_available() else \"cpu\""
   ]
  },
  {
   "cell_type": "code",
   "execution_count": 3,
   "metadata": {},
   "outputs": [],
   "source": [
    "class Net(nn.Module):\n",
    "    def __init__(self, input_size, device=\"cpu\"):\n",
    "        super().__init__()\n",
    "        self.f1 = nn.Linear(input_size, 10, device=device)\n",
    "        self.f2 = nn.Linear(10, 20, device=device)\n",
    "        self.f3 = nn.Linear(20, 20, device=device)\n",
    "        self.f4 = nn.Linear(20, 10, device=device)\n",
    "        self.f5 = nn.Linear(10, 1, device=device)\n",
    "\n",
    "        self.activation = nn.ReLU()\n",
    "        # self.activation = nn.Sigmoid()\n",
    "\n",
    "    def forward(self, x):\n",
    "        x = self.activation(self.f1(x))\n",
    "        x = self.activation(self.f2(x))\n",
    "        x = self.activation(self.f3(x))\n",
    "        x = self.activation(self.f4(x))\n",
    "        x = self.f5(x)\n",
    "\n",
    "        return x"
   ]
  },
  {
   "cell_type": "code",
   "execution_count": 4,
   "metadata": {},
   "outputs": [
    {
     "name": "stdout",
     "output_type": "stream",
     "text": [
      "torch.Size([800, 10]) torch.Size([800, 1])\n",
      "torch.Size([200, 10]) torch.Size([200, 1])\n"
     ]
    }
   ],
   "source": [
    "# X, y = load_diabetes(return_X_y=True, scaled=False)\n",
    "# X, y = make_regression(n_samples=1000, n_features=100)\n",
    "X, y = make_friedman1(n_samples=1000, noise=1e-2)\n",
    "\n",
    "X_scaler = MinMaxScaler()\n",
    "X = X_scaler.fit_transform(X)\n",
    "X = torch.Tensor(X).to(device)\n",
    "\n",
    "y_scaler = MinMaxScaler()\n",
    "y = y_scaler.fit_transform(y.reshape((-1, 1)))\n",
    "y = torch.Tensor(y).to(device)\n",
    "\n",
    "X_train, X_test, y_train, y_test = train_test_split(X, y, test_size=0.2)\n",
    "print(X_train.shape, y_train.shape)\n",
    "print(X_test.shape, y_test.shape)\n",
    "\n",
    "torch_data = TensorDataset(X_train, y_train)\n",
    "data_loader = DataLoader(torch_data, batch_size=1000)"
   ]
  },
  {
   "cell_type": "code",
   "execution_count": 5,
   "metadata": {},
   "outputs": [
    {
     "name": "stdout",
     "output_type": "stream",
     "text": [
      "epoch:  0, loss: 0.27696627378463745\n",
      "epoch:  1, loss: 0.2762451767921448\n",
      "epoch:  2, loss: 0.27418243885040283\n",
      "epoch:  3, loss: 0.27418243885040283\n",
      "epoch:  4, loss: 0.2242988497018814\n",
      "epoch:  5, loss: 0.21846482157707214\n",
      "epoch:  6, loss: 0.20917052030563354\n",
      "epoch:  7, loss: 0.200580894947052\n",
      "epoch:  8, loss: 0.19224128127098083\n",
      "epoch:  9, loss: 0.17663922905921936\n",
      "epoch:  10, loss: 0.1673210710287094\n",
      "epoch:  11, loss: 0.15827444195747375\n",
      "epoch:  12, loss: 0.14937619864940643\n",
      "epoch:  13, loss: 0.14056125283241272\n",
      "epoch:  14, loss: 0.13206471502780914\n",
      "epoch:  15, loss: 0.03434443473815918\n",
      "epoch:  16, loss: 0.031204257160425186\n",
      "epoch:  17, loss: 0.0296699870377779\n",
      "epoch:  18, loss: 0.02829756587743759\n",
      "epoch:  19, loss: 0.026989860460162163\n",
      "epoch:  20, loss: 0.0259866826236248\n",
      "epoch:  21, loss: 0.025832729414105415\n",
      "epoch:  22, loss: 0.025679225102066994\n",
      "epoch:  23, loss: 0.024868788197636604\n",
      "epoch:  24, loss: 0.02366563305258751\n",
      "epoch:  25, loss: 0.02238660305738449\n",
      "epoch:  26, loss: 0.021319512277841568\n",
      "epoch:  27, loss: 0.020440006628632545\n",
      "epoch:  28, loss: 0.02033153548836708\n",
      "epoch:  29, loss: 0.020330747589468956\n",
      "epoch:  30, loss: 0.020242275670170784\n",
      "epoch:  31, loss: 0.02012685313820839\n",
      "epoch:  32, loss: 0.019106779247522354\n",
      "epoch:  33, loss: 0.01803004741668701\n",
      "epoch:  34, loss: 0.017649507150053978\n",
      "epoch:  35, loss: 0.0168406181037426\n",
      "epoch:  36, loss: 0.01600359007716179\n",
      "epoch:  37, loss: 0.015132531523704529\n",
      "epoch:  38, loss: 0.014385059475898743\n",
      "epoch:  39, loss: 0.01369475107640028\n",
      "epoch:  40, loss: 0.013691529631614685\n",
      "epoch:  41, loss: 0.013406296260654926\n",
      "epoch:  42, loss: 0.012548834085464478\n",
      "epoch:  43, loss: 0.011901353485882282\n",
      "epoch:  44, loss: 0.011351075023412704\n",
      "epoch:  45, loss: 0.01081186905503273\n",
      "epoch:  46, loss: 0.010286111384630203\n",
      "epoch:  47, loss: 0.010241730138659477\n",
      "epoch:  48, loss: 0.00986279547214508\n",
      "epoch:  49, loss: 0.009465076960623264\n",
      "epoch:  50, loss: 0.009435616433620453\n",
      "epoch:  51, loss: 0.009097861126065254\n",
      "epoch:  52, loss: 0.008862352930009365\n",
      "epoch:  53, loss: 0.008395297452807426\n",
      "epoch:  54, loss: 0.00807251688092947\n",
      "epoch:  55, loss: 0.007775670848786831\n",
      "epoch:  56, loss: 0.007737411186099052\n",
      "epoch:  57, loss: 0.0076933191157877445\n",
      "epoch:  58, loss: 0.007444471586495638\n",
      "epoch:  59, loss: 0.00703008146956563\n",
      "epoch:  60, loss: 0.00698627345263958\n",
      "epoch:  61, loss: 0.006946770008653402\n",
      "epoch:  62, loss: 0.0069084069691598415\n",
      "epoch:  63, loss: 0.006870746612548828\n",
      "epoch:  64, loss: 0.006773246452212334\n",
      "epoch:  65, loss: 0.006767767481505871\n",
      "epoch:  66, loss: 0.006762686651200056\n",
      "epoch:  67, loss: 0.00673222541809082\n",
      "epoch:  68, loss: 0.006693640258163214\n",
      "epoch:  69, loss: 0.0065704104490578175\n",
      "epoch:  70, loss: 0.0065655941143631935\n",
      "epoch:  71, loss: 0.006510916631668806\n",
      "epoch:  72, loss: 0.006472094915807247\n",
      "epoch:  73, loss: 0.0064680445939302444\n",
      "epoch:  74, loss: 0.006429364439100027\n",
      "epoch:  75, loss: 0.006425372324883938\n",
      "epoch:  76, loss: 0.0064224121160805225\n",
      "epoch:  77, loss: 0.006079437211155891\n",
      "epoch:  78, loss: 0.006039787549525499\n",
      "epoch:  79, loss: 0.006004614755511284\n",
      "epoch:  80, loss: 0.005980608519166708\n",
      "epoch:  81, loss: 0.005956100299954414\n",
      "epoch:  82, loss: 0.005931290332227945\n",
      "epoch:  83, loss: 0.005903951823711395\n",
      "epoch:  84, loss: 0.0058874450623989105\n",
      "epoch:  85, loss: 0.005870521534234285\n",
      "epoch:  86, loss: 0.005856719333678484\n",
      "epoch:  87, loss: 0.0058297705836594105\n",
      "epoch:  88, loss: 0.005810669157654047\n",
      "epoch:  89, loss: 0.00578658189624548\n",
      "epoch:  90, loss: 0.005765844602137804\n",
      "epoch:  91, loss: 0.005743959452956915\n",
      "epoch:  92, loss: 0.005720154382288456\n",
      "epoch:  93, loss: 0.005698790308088064\n",
      "epoch:  94, loss: 0.005677300505340099\n",
      "epoch:  95, loss: 0.0056749507784843445\n",
      "epoch:  96, loss: 0.005653887987136841\n",
      "epoch:  97, loss: 0.005634369794279337\n",
      "epoch:  98, loss: 0.00560913747176528\n",
      "epoch:  99, loss: 0.005588472820818424\n"
     ]
    }
   ],
   "source": [
    "model = Net(input_size=X.shape[1], device=device)\n",
    "loss_fn = nn.MSELoss()\n",
    "\n",
    "# opt = torch_numopt.GaussNewton(model=model, lr=1, line_search_method=\"const\")\n",
    "opt = torch_numopt.GaussNewton(model=model, lr=1, c1=1e-4, tau=0.1, line_search_method=\"backtrack\", line_search_cond=\"armijo\")\n",
    "# opt = torch_numopt.GaussNewton(model=model, lr=1, c1=1e-4, tau=0.5, line_search_method='backtrack', line_search_cond='wolfe')\n",
    "# opt = torch_numopt.GaussNewton(model=model, lr=1, c1=1e-4, tau=0.5, line_search_method='backtrack', line_search_cond='strong-wolfe')\n",
    "# opt = torch_numopt.GaussNewton(model=model, lr=1, c1=1e-4, tau=0.5, line_search_method='backtrack', line_search_cond='goldstein')\n",
    "\n",
    "all_loss = {}\n",
    "for epoch in range(100):\n",
    "    print(\"epoch: \", epoch, end=\"\")\n",
    "    all_loss[epoch + 1] = 0\n",
    "    for batch_idx, (b_x, b_y) in enumerate(data_loader):\n",
    "        pre = model(b_x)\n",
    "        loss = loss_fn(pre, b_y)\n",
    "        opt.zero_grad()\n",
    "        loss.backward()\n",
    "\n",
    "        # parameter update step based on optimizer\n",
    "        opt.step(b_x, b_y, loss_fn)\n",
    "\n",
    "        all_loss[epoch + 1] += loss\n",
    "    all_loss[epoch + 1] /= len(data_loader)\n",
    "    print(\", loss: {}\".format(all_loss[epoch + 1].cpu().detach().numpy().item()))"
   ]
  },
  {
   "cell_type": "code",
   "execution_count": 6,
   "metadata": {},
   "outputs": [
    {
     "name": "stdout",
     "output_type": "stream",
     "text": [
      "Train metrics: R2 = 0.7921780017800015\n",
      "Test metrics:  R2 = 0.33238287011033774\n"
     ]
    }
   ],
   "source": [
    "pred_train = model.forward(X_train).cpu().detach()\n",
    "pred_test = model.forward(X_test).cpu().detach()\n",
    "print(f\"Train metrics: R2 = {r2_score(pred_train, y_train.cpu())}\")\n",
    "print(f\"Test metrics:  R2 = {r2_score(pred_test, y_test.cpu())}\")"
   ]
  }
 ],
 "metadata": {
  "kernelspec": {
   "display_name": "torch_numopt",
   "language": "python",
   "name": "python3"
  },
  "language_info": {
   "codemirror_mode": {
    "name": "ipython",
    "version": 3
   },
   "file_extension": ".py",
   "mimetype": "text/x-python",
   "name": "python",
   "nbconvert_exporter": "python",
   "pygments_lexer": "ipython3",
   "version": "3.10.16"
  }
 },
 "nbformat": 4,
 "nbformat_minor": 2
}
