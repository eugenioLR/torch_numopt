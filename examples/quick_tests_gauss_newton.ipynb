{
 "cells": [
  {
   "cell_type": "code",
   "execution_count": 1,
   "metadata": {},
   "outputs": [],
   "source": [
    "import torch\n",
    "import torch.nn as nn\n",
    "import torch.optim as optim\n",
    "import torch_numopt\n",
    "import numpy as np\n",
    "import matplotlib.pyplot as plt\n",
    "from torch.utils.data import DataLoader, TensorDataset\n",
    "from sklearn.datasets import *\n",
    "from sklearn.preprocessing import MinMaxScaler\n",
    "from sklearn.model_selection import train_test_split\n",
    "from sklearn.metrics import r2_score, mean_absolute_error"
   ]
  },
  {
   "cell_type": "code",
   "execution_count": 2,
   "metadata": {},
   "outputs": [],
   "source": [
    "device = \"cuda\" if torch.cuda.is_available() else \"cpu\""
   ]
  },
  {
   "cell_type": "code",
   "execution_count": 3,
   "metadata": {},
   "outputs": [],
   "source": [
    "class Net(nn.Module):\n",
    "    def __init__(self, input_size, device=\"cpu\"):\n",
    "        super().__init__()\n",
    "        self.f1 = nn.Linear(input_size, 10, device=device)\n",
    "        self.f2 = nn.Linear(10, 20, device=device)\n",
    "        self.f3 = nn.Linear(20, 20, device=device)\n",
    "        self.f4 = nn.Linear(20, 10, device=device)\n",
    "        self.f5 = nn.Linear(10, 1, device=device)\n",
    "\n",
    "        self.activation = nn.ReLU()\n",
    "        # self.activation = nn.Sigmoid()\n",
    "\n",
    "    def forward(self, x):\n",
    "        x = self.activation(self.f1(x))\n",
    "        x = self.activation(self.f2(x))\n",
    "        x = self.activation(self.f3(x))\n",
    "        x = self.activation(self.f4(x))\n",
    "        x = self.f5(x)\n",
    "\n",
    "        return x"
   ]
  },
  {
   "cell_type": "code",
   "execution_count": 4,
   "metadata": {},
   "outputs": [
    {
     "name": "stdout",
     "output_type": "stream",
     "text": [
      "torch.Size([800, 10]) torch.Size([800, 1])\n",
      "torch.Size([200, 10]) torch.Size([200, 1])\n"
     ]
    }
   ],
   "source": [
    "# X, y = load_diabetes(return_X_y=True, scaled=False)\n",
    "# X, y = make_regression(n_samples=1000, n_features=100)\n",
    "X, y = make_friedman1(n_samples=1000, noise=1e-2)\n",
    "\n",
    "X_scaler = MinMaxScaler()\n",
    "X = X_scaler.fit_transform(X)\n",
    "X = torch.Tensor(X).to(device)\n",
    "\n",
    "y_scaler = MinMaxScaler()\n",
    "y = y_scaler.fit_transform(y.reshape((-1, 1)))\n",
    "y = torch.Tensor(y).to(device)\n",
    "\n",
    "X_train, X_test, y_train, y_test = train_test_split(X, y, test_size=0.2)\n",
    "print(X_train.shape, y_train.shape)\n",
    "print(X_test.shape, y_test.shape)\n",
    "\n",
    "torch_data = TensorDataset(X_train, y_train)\n",
    "data_loader = DataLoader(torch_data, batch_size=1000)"
   ]
  },
  {
   "cell_type": "code",
   "execution_count": 5,
   "metadata": {},
   "outputs": [
    {
     "name": "stdout",
     "output_type": "stream",
     "text": [
      "epoch:  0, loss: 0.11306442320346832\n",
      "epoch:  1, loss: 0.11224287003278732\n",
      "epoch:  2, loss: 0.11218762397766113\n",
      "epoch:  3, loss: 0.10418327152729034\n",
      "epoch:  4, loss: 0.1032775342464447\n",
      "epoch:  5, loss: 0.10273084044456482\n",
      "epoch:  6, loss: 0.1018487811088562\n",
      "epoch:  7, loss: 0.0888916552066803\n",
      "epoch:  8, loss: 0.08479877561330795\n",
      "epoch:  9, loss: 0.07101849466562271\n",
      "epoch:  10, loss: 0.07037174701690674\n",
      "epoch:  11, loss: 0.06960155069828033\n",
      "epoch:  12, loss: 0.06882763653993607\n",
      "epoch:  13, loss: 0.06818442791700363\n",
      "epoch:  14, loss: 0.06560378521680832\n",
      "epoch:  15, loss: 0.0653294175863266\n",
      "epoch:  16, loss: 0.06497751176357269\n",
      "epoch:  17, loss: 0.06351982802152634\n",
      "epoch:  18, loss: 0.05954142287373543\n",
      "epoch:  19, loss: 0.0558205209672451\n",
      "epoch:  20, loss: 0.05220174044370651\n",
      "epoch:  21, loss: 0.048978932201862335\n",
      "epoch:  22, loss: 0.0456402488052845\n",
      "epoch:  23, loss: 0.042736414819955826\n",
      "epoch:  24, loss: 0.040237654000520706\n",
      "epoch:  25, loss: 0.037494417279958725\n",
      "epoch:  26, loss: 0.03721635788679123\n",
      "epoch:  27, loss: 0.034845393151044846\n",
      "epoch:  28, loss: 0.03270814195275307\n",
      "epoch:  29, loss: 0.031097568571567535\n",
      "epoch:  30, loss: 0.028947286307811737\n",
      "epoch:  31, loss: 0.027262119576334953\n",
      "epoch:  32, loss: 0.02594459056854248\n",
      "epoch:  33, loss: 0.024658577516674995\n",
      "epoch:  34, loss: 0.023505091667175293\n",
      "epoch:  35, loss: 0.022524597123265266\n",
      "epoch:  36, loss: 0.02205289527773857\n",
      "epoch:  37, loss: 0.02082725055515766\n",
      "epoch:  38, loss: 0.019963813945651054\n",
      "epoch:  39, loss: 0.018586261197924614\n",
      "epoch:  40, loss: 0.017945969477295876\n",
      "epoch:  41, loss: 0.017945965752005577\n",
      "epoch:  42, loss: 0.01733066886663437\n",
      "epoch:  43, loss: 0.017237525433301926\n",
      "epoch:  44, loss: 0.015439950861036777\n",
      "epoch:  45, loss: 0.014581277035176754\n",
      "epoch:  46, loss: 0.013642759993672371\n",
      "epoch:  47, loss: 0.01310993917286396\n",
      "epoch:  48, loss: 0.01265824306756258\n",
      "epoch:  49, loss: 0.012040352448821068\n",
      "epoch:  50, loss: 0.011948611587285995\n",
      "epoch:  51, loss: 0.011948027648031712\n",
      "epoch:  52, loss: 0.011492381803691387\n",
      "epoch:  53, loss: 0.011336232535541058\n",
      "epoch:  54, loss: 0.011211950331926346\n",
      "epoch:  55, loss: 0.011126203462481499\n",
      "epoch:  56, loss: 0.010833567939698696\n",
      "epoch:  57, loss: 0.009936930611729622\n",
      "epoch:  58, loss: 0.009523827582597733\n",
      "epoch:  59, loss: 0.009461671113967896\n",
      "epoch:  60, loss: 0.00939936377108097\n",
      "epoch:  61, loss: 0.009326446801424026\n",
      "epoch:  62, loss: 0.009252522140741348\n",
      "epoch:  63, loss: 0.009186839684844017\n",
      "epoch:  64, loss: 0.00913743395358324\n",
      "epoch:  65, loss: 0.009122123941779137\n",
      "epoch:  66, loss: 0.008908609859645367\n",
      "epoch:  67, loss: 0.00860369112342596\n",
      "epoch:  68, loss: 0.008528931066393852\n",
      "epoch:  69, loss: 0.008457466028630733\n",
      "epoch:  70, loss: 0.008207976818084717\n",
      "epoch:  71, loss: 0.008132385089993477\n",
      "epoch:  72, loss: 0.00806467141956091\n",
      "epoch:  73, loss: 0.008058387786149979\n",
      "epoch:  74, loss: 0.007997213862836361\n",
      "epoch:  75, loss: 0.007992476224899292\n",
      "epoch:  76, loss: 0.0077359313145279884\n",
      "epoch:  77, loss: 0.00765614490956068\n",
      "epoch:  78, loss: 0.007649865001440048\n",
      "epoch:  79, loss: 0.007588425185531378\n",
      "epoch:  80, loss: 0.007429454009979963\n",
      "epoch:  81, loss: 0.00719933258369565\n",
      "epoch:  82, loss: 0.006996496114879847\n",
      "epoch:  83, loss: 0.006936186458915472\n",
      "epoch:  84, loss: 0.0068697272799909115\n",
      "epoch:  85, loss: 0.0067981150932610035\n",
      "epoch:  86, loss: 0.006734864786267281\n",
      "epoch:  87, loss: 0.006526630371809006\n",
      "epoch:  88, loss: 0.006454404443502426\n",
      "epoch:  89, loss: 0.006399219855666161\n",
      "epoch:  90, loss: 0.006361061241477728\n",
      "epoch:  91, loss: 0.00629805214703083\n",
      "epoch:  92, loss: 0.0062472159042954445\n",
      "epoch:  93, loss: 0.006200897507369518\n",
      "epoch:  94, loss: 0.0061505078338086605\n",
      "epoch:  95, loss: 0.006114636547863483\n",
      "epoch:  96, loss: 0.006083602551370859\n",
      "epoch:  97, loss: 0.006059559993445873\n",
      "epoch:  98, loss: 0.006037114653736353\n",
      "epoch:  99, loss: 0.005994800012558699\n"
     ]
    }
   ],
   "source": [
    "model = Net(input_size=X.shape[1], device=device)\n",
    "loss_fn = nn.MSELoss()\n",
    "\n",
    "# opt = torch_numopt.GaussNewton(model=model, lr=1, line_search_method=\"const\")\n",
    "opt = torch_numopt.GaussNewton(model=model, lr=1, c1=1e-4, tau=0.1, line_search_method=\"backtrack\", line_search_cond=\"armijo\")\n",
    "# opt = torch_numopt.GaussNewton(model=model, lr=1, c1=1e-4, tau=0.5, line_search_method='backtrack', line_search_cond='wolfe')\n",
    "# opt = torch_numopt.GaussNewton(model=model, lr=1, c1=1e-4, tau=0.5, line_search_method='backtrack', line_search_cond='strong-wolfe')\n",
    "# opt = torch_numopt.GaussNewton(model=model, lr=1, c1=1e-4, tau=0.5, line_search_method='backtrack', line_search_cond='goldstein')\n",
    "\n",
    "all_loss = {}\n",
    "for epoch in range(100):\n",
    "    print(\"epoch: \", epoch, end=\"\")\n",
    "    all_loss[epoch + 1] = 0\n",
    "    for batch_idx, (b_x, b_y) in enumerate(data_loader):\n",
    "        pre = model(b_x)\n",
    "        loss = loss_fn(pre, b_y)\n",
    "        opt.zero_grad()\n",
    "        loss.backward()\n",
    "\n",
    "        # parameter update step based on optimizer\n",
    "        opt.step(b_x, b_y, loss_fn)\n",
    "\n",
    "        all_loss[epoch + 1] += loss\n",
    "    all_loss[epoch + 1] /= len(data_loader)\n",
    "    print(\", loss: {}\".format(all_loss[epoch + 1].cpu().detach().numpy().item()))"
   ]
  },
  {
   "cell_type": "code",
   "execution_count": 6,
   "metadata": {},
   "outputs": [
    {
     "name": "stdout",
     "output_type": "stream",
     "text": [
      "Train metrics: R2 = 0.7716077890783959\n",
      "Test metrics:  R2 = 0.4269819097787919\n"
     ]
    }
   ],
   "source": [
    "pred_train = model.forward(X_train).cpu().detach()\n",
    "pred_test = model.forward(X_test).cpu().detach()\n",
    "print(f\"Train metrics: R2 = {r2_score(pred_train, y_train.cpu())}\")\n",
    "print(f\"Test metrics:  R2 = {r2_score(pred_test, y_test.cpu())}\")"
   ]
  }
 ],
 "metadata": {
  "kernelspec": {
   "display_name": "torch_numopt",
   "language": "python",
   "name": "python3"
  },
  "language_info": {
   "codemirror_mode": {
    "name": "ipython",
    "version": 3
   },
   "file_extension": ".py",
   "mimetype": "text/x-python",
   "name": "python",
   "nbconvert_exporter": "python",
   "pygments_lexer": "ipython3",
   "version": "3.10.16"
  }
 },
 "nbformat": 4,
 "nbformat_minor": 2
}
