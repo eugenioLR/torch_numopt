{
 "cells": [
  {
   "cell_type": "code",
   "execution_count": 14,
   "metadata": {},
   "outputs": [],
   "source": [
    "import torch\n",
    "import torch.nn as nn\n",
    "import torch.optim as optim\n",
    "import torch_numopt\n",
    "import numpy as np\n",
    "import matplotlib.pyplot as plt\n",
    "from torch.utils.data import DataLoader, TensorDataset\n",
    "from sklearn.datasets import *\n",
    "from sklearn.preprocessing import MinMaxScaler\n",
    "from sklearn.model_selection import train_test_split\n",
    "from sklearn.metrics import r2_score, mean_absolute_error"
   ]
  },
  {
   "cell_type": "code",
   "execution_count": 15,
   "metadata": {},
   "outputs": [],
   "source": [
    "device = \"cuda\" if torch.cuda.is_available() else \"cpu\""
   ]
  },
  {
   "cell_type": "code",
   "execution_count": 16,
   "metadata": {},
   "outputs": [],
   "source": [
    "class Net(nn.Module):\n",
    "    def __init__(self, input_size, device=\"cpu\"):\n",
    "        super().__init__()\n",
    "        self.f1 = nn.Linear(input_size, 10, device=device)\n",
    "        self.f2 = nn.Linear(10, 20, device=device)\n",
    "        self.f3 = nn.Linear(20, 20, device=device)\n",
    "        self.f4 = nn.Linear(20, 10, device=device)\n",
    "        self.f5 = nn.Linear(10, 1, device=device)\n",
    "\n",
    "        self.activation = nn.ReLU()\n",
    "        # self.activation = nn.Sigmoid()\n",
    "\n",
    "    def forward(self, x):\n",
    "        x = self.activation(self.f1(x))\n",
    "        x = self.activation(self.f2(x))\n",
    "        x = self.activation(self.f3(x))\n",
    "        x = self.activation(self.f4(x))\n",
    "        x = self.f5(x)\n",
    "\n",
    "        return x"
   ]
  },
  {
   "cell_type": "code",
   "execution_count": 17,
   "metadata": {},
   "outputs": [
    {
     "name": "stdout",
     "output_type": "stream",
     "text": [
      "torch.Size([800, 10]) torch.Size([800, 1])\n",
      "torch.Size([200, 10]) torch.Size([200, 1])\n"
     ]
    }
   ],
   "source": [
    "# X, y = load_diabetes(return_X_y=True, scaled=False)\n",
    "# X, y = make_regression(n_samples=1000, n_features=100)\n",
    "X, y = make_friedman1(n_samples=1000, noise=1e-2)\n",
    "\n",
    "X_scaler = MinMaxScaler()\n",
    "X = X_scaler.fit_transform(X)\n",
    "X = torch.Tensor(X).to(device)\n",
    "\n",
    "y_scaler = MinMaxScaler()\n",
    "y = y_scaler.fit_transform(y.reshape((-1, 1)))\n",
    "y = torch.Tensor(y).to(device)\n",
    "\n",
    "X_train, X_test, y_train, y_test = train_test_split(X, y, test_size=0.2)\n",
    "print(X_train.shape, y_train.shape)\n",
    "print(X_test.shape, y_test.shape)\n",
    "\n",
    "torch_data = TensorDataset(X_train, y_train)\n",
    "data_loader = DataLoader(torch_data, batch_size=1000)"
   ]
  },
  {
   "cell_type": "code",
   "execution_count": 18,
   "metadata": {},
   "outputs": [
    {
     "name": "stdout",
     "output_type": "stream",
     "text": [
      "epoch:  0, loss: 0.25262269377708435\n",
      "epoch:  1, loss: 0.16516420245170593\n",
      "epoch:  2, loss: 0.10410765558481216\n",
      "epoch:  3, loss: 0.10316913574934006\n",
      "epoch:  4, loss: 0.08901616930961609\n",
      "epoch:  5, loss: 0.08207760006189346\n",
      "epoch:  6, loss: 0.07580213248729706\n",
      "epoch:  7, loss: 0.06962193548679352\n",
      "epoch:  8, loss: 0.06405680626630783\n",
      "epoch:  9, loss: 0.053078897297382355\n",
      "epoch:  10, loss: 0.048517126590013504\n",
      "epoch:  11, loss: 0.045162398368120193\n",
      "epoch:  12, loss: 0.04270121455192566\n",
      "epoch:  13, loss: 0.0399169921875\n",
      "epoch:  14, loss: 0.037492360919713974\n",
      "epoch:  15, loss: 0.03726208209991455\n",
      "epoch:  16, loss: 0.03704129904508591\n",
      "epoch:  17, loss: 0.03681093454360962\n",
      "epoch:  18, loss: 0.03485811501741409\n",
      "epoch:  19, loss: 0.0337146520614624\n",
      "epoch:  20, loss: 0.031902361661195755\n",
      "epoch:  21, loss: 0.0303786788135767\n",
      "epoch:  22, loss: 0.028735747560858727\n",
      "epoch:  23, loss: 0.0270877443253994\n",
      "epoch:  24, loss: 0.025659747421741486\n",
      "epoch:  25, loss: 0.024351967498660088\n",
      "epoch:  26, loss: 0.023188738152384758\n",
      "epoch:  27, loss: 0.022005528211593628\n",
      "epoch:  28, loss: 0.020264113321900368\n",
      "epoch:  29, loss: 0.019193610176444054\n",
      "epoch:  30, loss: 0.0182589553296566\n",
      "epoch:  31, loss: 0.01739620976150036\n",
      "epoch:  32, loss: 0.01653364859521389\n",
      "epoch:  33, loss: 0.015841031447052956\n",
      "epoch:  34, loss: 0.015232989564538002\n",
      "epoch:  35, loss: 0.014521216973662376\n",
      "epoch:  36, loss: 0.013930592685937881\n",
      "epoch:  37, loss: 0.013344050385057926\n",
      "epoch:  38, loss: 0.012771615758538246\n",
      "epoch:  39, loss: 0.012688960880041122\n",
      "epoch:  40, loss: 0.012574315071105957\n",
      "epoch:  41, loss: 0.0120784817263484\n",
      "epoch:  42, loss: 0.011705249547958374\n",
      "epoch:  43, loss: 0.011217264458537102\n",
      "epoch:  44, loss: 0.010978147387504578\n",
      "epoch:  45, loss: 0.010545429773628712\n",
      "epoch:  46, loss: 0.010076019912958145\n",
      "epoch:  47, loss: 0.009676617570221424\n",
      "epoch:  48, loss: 0.009334436617791653\n",
      "epoch:  49, loss: 0.008947786875069141\n",
      "epoch:  50, loss: 0.00860041007399559\n",
      "epoch:  51, loss: 0.008328014053404331\n",
      "epoch:  52, loss: 0.008245169185101986\n",
      "epoch:  53, loss: 0.007895688526332378\n",
      "epoch:  54, loss: 0.007727509364485741\n",
      "epoch:  55, loss: 0.007441581226885319\n",
      "epoch:  56, loss: 0.007179615553468466\n",
      "epoch:  57, loss: 0.006908431649208069\n",
      "epoch:  58, loss: 0.006833862047642469\n",
      "epoch:  59, loss: 0.006779085844755173\n",
      "epoch:  60, loss: 0.006485119927674532\n",
      "epoch:  61, loss: 0.006309465039521456\n",
      "epoch:  62, loss: 0.0062458692118525505\n",
      "epoch:  63, loss: 0.006035796832293272\n",
      "epoch:  64, loss: 0.0059640598483383656\n",
      "epoch:  65, loss: 0.005912430118769407\n",
      "epoch:  66, loss: 0.0057084527797997\n",
      "epoch:  67, loss: 0.0056386361829936504\n",
      "epoch:  68, loss: 0.00558469770476222\n",
      "epoch:  69, loss: 0.0055186511017382145\n",
      "epoch:  70, loss: 0.00549508398398757\n",
      "epoch:  71, loss: 0.005245615728199482\n",
      "epoch:  72, loss: 0.005181475542485714\n",
      "epoch:  73, loss: 0.005124654155224562\n",
      "epoch:  74, loss: 0.005076233763247728\n",
      "epoch:  75, loss: 0.005033979192376137\n",
      "epoch:  76, loss: 0.004995385184884071\n",
      "epoch:  77, loss: 0.004944624379277229\n",
      "epoch:  78, loss: 0.00488912733271718\n",
      "epoch:  79, loss: 0.004839212633669376\n",
      "epoch:  80, loss: 0.004793091677129269\n",
      "epoch:  81, loss: 0.004792786203324795\n",
      "epoch:  82, loss: 0.004725566133856773\n",
      "epoch:  83, loss: 0.004670281428843737\n",
      "epoch:  84, loss: 0.0046238973736763\n",
      "epoch:  85, loss: 0.004583548754453659\n",
      "epoch:  86, loss: 0.004541709553450346\n",
      "epoch:  87, loss: 0.004510700702667236\n",
      "epoch:  88, loss: 0.004501161631196737\n",
      "epoch:  89, loss: 0.00446801632642746\n",
      "epoch:  90, loss: 0.004443277604877949\n",
      "epoch:  91, loss: 0.004419687204062939\n",
      "epoch:  92, loss: 0.004396476782858372\n",
      "epoch:  93, loss: 0.004369284026324749\n",
      "epoch:  94, loss: 0.0043439981527626514\n",
      "epoch:  95, loss: 0.004321068525314331\n",
      "epoch:  96, loss: 0.004295402206480503\n",
      "epoch:  97, loss: 0.004278256557881832\n",
      "epoch:  98, loss: 0.0042742593213915825\n",
      "epoch:  99, loss: 0.004254600964486599\n"
     ]
    }
   ],
   "source": [
    "model = Net(input_size=X.shape[1], device=device)\n",
    "loss_fn = nn.MSELoss()\n",
    "\n",
    "# opt = torch_numopt.GaussNewton(model=model, lr=1, line_search_method=\"const\")\n",
    "opt = torch_numopt.GaussNewton(model=model, lr=1, c1=1e-4, tau=0.1, line_search_method=\"backtrack\", line_search_cond=\"armijo\")\n",
    "# opt = torch_numopt.GaussNewton(model=model, lr=1, c1=1e-4, tau=0.5, line_search_method='backtrack', line_search_cond='wolfe')\n",
    "# opt = torch_numopt.GaussNewton(model=model, lr=1, c1=1e-4, tau=0.5, line_search_method='backtrack', line_search_cond='strong-wolfe')\n",
    "# opt = torch_numopt.GaussNewton(model=model, lr=1, c1=1e-4, tau=0.5, line_search_method='backtrack', line_search_cond='goldstein')\n",
    "\n",
    "all_loss = {}\n",
    "for epoch in range(100):\n",
    "    print(\"epoch: \", epoch, end=\"\")\n",
    "    all_loss[epoch + 1] = 0\n",
    "    for batch_idx, (b_x, b_y) in enumerate(data_loader):\n",
    "        pre = model(b_x)\n",
    "        loss = loss_fn(pre, b_y)\n",
    "        opt.zero_grad()\n",
    "        loss.backward()\n",
    "\n",
    "        # parameter update step based on optimizer\n",
    "        opt.step(b_x, b_y, loss_fn)\n",
    "\n",
    "        all_loss[epoch + 1] += loss\n",
    "    all_loss[epoch + 1] /= len(data_loader)\n",
    "    print(\", loss: {}\".format(all_loss[epoch + 1].cpu().detach().numpy().item()))"
   ]
  },
  {
   "cell_type": "code",
   "execution_count": 19,
   "metadata": {},
   "outputs": [
    {
     "name": "stdout",
     "output_type": "stream",
     "text": [
      "Train metrics: R2 = 0.8612651450880559\n",
      "Test metrics:  R2 = 0.523403918307493\n"
     ]
    }
   ],
   "source": [
    "pred_train = model.forward(X_train).cpu().detach()\n",
    "pred_test = model.forward(X_test).cpu().detach()\n",
    "print(f\"Train metrics: R2 = {r2_score(pred_train, y_train.cpu())}\")\n",
    "print(f\"Test metrics:  R2 = {r2_score(pred_test, y_test.cpu())}\")"
   ]
  }
 ],
 "metadata": {
  "kernelspec": {
   "display_name": "torch_numopt",
   "language": "python",
   "name": "python3"
  },
  "language_info": {
   "codemirror_mode": {
    "name": "ipython",
    "version": 3
   },
   "file_extension": ".py",
   "mimetype": "text/x-python",
   "name": "python",
   "nbconvert_exporter": "python",
   "pygments_lexer": "ipython3",
   "version": "3.10.16"
  }
 },
 "nbformat": 4,
 "nbformat_minor": 2
}
