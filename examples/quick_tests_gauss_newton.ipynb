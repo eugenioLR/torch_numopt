{
 "cells": [
  {
   "cell_type": "code",
   "execution_count": 1,
   "metadata": {},
   "outputs": [],
   "source": [
    "import torch\n",
    "import torch.nn as nn\n",
    "import torch.optim as optim\n",
    "import torch_numopt\n",
    "import numpy as np\n",
    "import matplotlib.pyplot as plt\n",
    "from torch.utils.data import DataLoader, TensorDataset\n",
    "from sklearn.datasets import *\n",
    "from sklearn.preprocessing import MinMaxScaler\n",
    "from sklearn.model_selection import train_test_split\n",
    "from sklearn.metrics import r2_score, mean_absolute_error"
   ]
  },
  {
   "cell_type": "code",
   "execution_count": 2,
   "metadata": {},
   "outputs": [],
   "source": [
    "device = \"cpu\""
   ]
  },
  {
   "cell_type": "code",
   "execution_count": 3,
   "metadata": {},
   "outputs": [],
   "source": [
    "class Net(nn.Module):\n",
    "    def __init__(self, input_size, device=\"cpu\"):\n",
    "        super().__init__()\n",
    "        self.f1 = nn.Linear(input_size, 10, device=device)\n",
    "        self.f2 = nn.Linear(10, 20, device=device)\n",
    "        self.f3 = nn.Linear(20, 20, device=device)\n",
    "        self.f4 = nn.Linear(20, 10, device=device)\n",
    "        self.f5 = nn.Linear(10, 1, device=device)\n",
    "\n",
    "        self.activation = nn.ReLU()\n",
    "        # self.activation = nn.Sigmoid()\n",
    "\n",
    "    def forward(self, x):\n",
    "        x = self.activation(self.f1(x))\n",
    "        x = self.activation(self.f2(x))\n",
    "        x = self.activation(self.f3(x))\n",
    "        x = self.activation(self.f4(x))\n",
    "        x = self.f5(x)\n",
    "\n",
    "        return x"
   ]
  },
  {
   "cell_type": "code",
   "execution_count": 4,
   "metadata": {},
   "outputs": [
    {
     "name": "stdout",
     "output_type": "stream",
     "text": [
      "torch.Size([800, 10]) torch.Size([800, 1])\n",
      "torch.Size([200, 10]) torch.Size([200, 1])\n"
     ]
    }
   ],
   "source": [
    "# X, y = load_diabetes(return_X_y=True, scaled=False)\n",
    "# X, y = make_regression(n_samples=1000, n_features=100)\n",
    "X, y = make_friedman1(n_samples=1000, noise=1e-2)\n",
    "\n",
    "X_scaler = MinMaxScaler()\n",
    "X = X_scaler.fit_transform(X)\n",
    "X = torch.Tensor(X).to(device)\n",
    "\n",
    "y_scaler = MinMaxScaler()\n",
    "y = y_scaler.fit_transform(y.reshape((-1, 1)))\n",
    "y = torch.Tensor(y).to(device)\n",
    "\n",
    "X_train, X_test, y_train, y_test = train_test_split(X, y, test_size=0.2)\n",
    "print(X_train.shape, y_train.shape)\n",
    "print(X_test.shape, y_test.shape)\n",
    "\n",
    "torch_data = TensorDataset(X_train, y_train)\n",
    "data_loader = DataLoader(torch_data, batch_size=1000)"
   ]
  },
  {
   "cell_type": "code",
   "execution_count": 7,
   "metadata": {},
   "outputs": [
    {
     "name": "stdout",
     "output_type": "stream",
     "text": [
      "epoch:  0, loss: 0.3718877136707306\n",
      "epoch:  1, loss: 0.3595995604991913\n",
      "epoch:  2, loss: 0.3531622290611267\n",
      "epoch:  3, loss: 0.3413200378417969\n",
      "epoch:  4, loss: 0.31841835379600525\n",
      "epoch:  5, loss: 0.31177765130996704\n",
      "epoch:  6, loss: 0.301130473613739\n",
      "epoch:  7, loss: 0.29059532284736633\n",
      "epoch:  8, loss: 0.27896782755851746\n",
      "epoch:  9, loss: 0.2673717737197876\n",
      "epoch:  10, loss: 0.2561834752559662\n",
      "epoch:  11, loss: 0.2452242076396942\n",
      "epoch:  12, loss: 0.23442412912845612\n",
      "epoch:  13, loss: 0.2238737940788269\n",
      "epoch:  14, loss: 0.21329286694526672\n",
      "epoch:  15, loss: 0.2030363827943802\n",
      "epoch:  16, loss: 0.19309411942958832\n",
      "epoch:  17, loss: 0.19211147725582123\n",
      "epoch:  18, loss: 0.18242406845092773\n",
      "epoch:  19, loss: 0.1729619801044464\n",
      "epoch:  20, loss: 0.1636725664138794\n",
      "epoch:  21, loss: 0.1547672599554062\n",
      "epoch:  22, loss: 0.14616747200489044\n",
      "epoch:  23, loss: 0.13778817653656006\n",
      "epoch:  24, loss: 0.1296919584274292\n",
      "epoch:  25, loss: 0.12202729284763336\n",
      "epoch:  26, loss: 0.1144925132393837\n",
      "epoch:  27, loss: 0.10730587691068649\n",
      "epoch:  28, loss: 0.10042552649974823\n",
      "epoch:  29, loss: 0.0939396396279335\n",
      "epoch:  30, loss: 0.08773565292358398\n",
      "epoch:  31, loss: 0.08180009573698044\n",
      "epoch:  32, loss: 0.07577144354581833\n",
      "epoch:  33, loss: 0.07037510722875595\n",
      "epoch:  34, loss: 0.06546639651060104\n",
      "epoch:  35, loss: 0.060790132731199265\n",
      "epoch:  36, loss: 0.05639483034610748\n",
      "epoch:  37, loss: 0.05227920413017273\n",
      "epoch:  38, loss: 0.04856223985552788\n",
      "epoch:  39, loss: 0.04498422518372536\n",
      "epoch:  40, loss: 0.041638292372226715\n",
      "epoch:  41, loss: 0.038740575313568115\n",
      "epoch:  42, loss: 0.03576863184571266\n",
      "epoch:  43, loss: 0.03274258226156235\n",
      "epoch:  44, loss: 0.03013015352189541\n",
      "epoch:  45, loss: 0.02775079756975174\n",
      "epoch:  46, loss: 0.025502534583210945\n",
      "epoch:  47, loss: 0.023540182039141655\n",
      "epoch:  48, loss: 0.021634580567479134\n",
      "epoch:  49, loss: 0.019820863381028175\n",
      "epoch:  50, loss: 0.018209226429462433\n",
      "epoch:  51, loss: 0.016530532389879227\n",
      "epoch:  52, loss: 0.015082099474966526\n",
      "epoch:  53, loss: 0.013901111669838428\n",
      "epoch:  54, loss: 0.012686623260378838\n",
      "epoch:  55, loss: 0.011547102592885494\n",
      "epoch:  56, loss: 0.010752418078482151\n",
      "epoch:  57, loss: 0.009840859100222588\n",
      "epoch:  58, loss: 0.009038914926350117\n",
      "epoch:  59, loss: 0.00893776211887598\n",
      "epoch:  60, loss: 0.008153707720339298\n",
      "epoch:  61, loss: 0.007522948551923037\n",
      "epoch:  62, loss: 0.006938244216144085\n",
      "epoch:  63, loss: 0.006516830995678902\n",
      "epoch:  64, loss: 0.00606631301343441\n",
      "epoch:  65, loss: 0.005988618358969688\n",
      "epoch:  66, loss: 0.00562103558331728\n",
      "epoch:  67, loss: 0.005502675659954548\n",
      "epoch:  68, loss: 0.0050819190219044685\n",
      "epoch:  69, loss: 0.004783684387803078\n",
      "epoch:  70, loss: 0.004721828270703554\n",
      "epoch:  71, loss: 0.00467125978320837\n",
      "epoch:  72, loss: 0.004572780802845955\n",
      "epoch:  73, loss: 0.004474030341953039\n",
      "epoch:  74, loss: 0.004406899679452181\n",
      "epoch:  75, loss: 0.004387400578707457\n",
      "epoch:  76, loss: 0.004063271451741457\n",
      "epoch:  77, loss: 0.0039040304254740477\n",
      "epoch:  78, loss: 0.00380882085300982\n",
      "epoch:  79, loss: 0.0036710987333208323\n",
      "epoch:  80, loss: 0.003567491425201297\n",
      "epoch:  81, loss: 0.0034915360156446695\n",
      "epoch:  82, loss: 0.0034128292463719845\n",
      "epoch:  83, loss: 0.0033197179436683655\n",
      "epoch:  84, loss: 0.0032733064144849777\n",
      "epoch:  85, loss: 0.0031580186914652586\n",
      "epoch:  86, loss: 0.0030776646453887224\n",
      "epoch:  87, loss: 0.003019654657691717\n",
      "epoch:  88, loss: 0.002983605023473501\n",
      "epoch:  89, loss: 0.0029450186993926764\n",
      "epoch:  90, loss: 0.0029167700558900833\n",
      "epoch:  91, loss: 0.0028914455324411392\n",
      "epoch:  92, loss: 0.002863995498046279\n",
      "epoch:  93, loss: 0.0028403187170624733\n",
      "epoch:  94, loss: 0.0027774868067353964\n",
      "epoch:  95, loss: 0.002729970496147871\n",
      "epoch:  96, loss: 0.0026954286731779575\n",
      "epoch:  97, loss: 0.0026649737264961004\n",
      "epoch:  98, loss: 0.002643770771101117\n",
      "epoch:  99, loss: 0.0026229973882436752\n"
     ]
    }
   ],
   "source": [
    "model = Net(input_size=X.shape[1], device=device)\n",
    "loss_fn = nn.MSELoss()\n",
    "\n",
    "# opt = torch_numopt.GaussNewton(model.parameters(), model=model, lr=1, line_search_method=\"const\")\n",
    "opt = torch_numopt.GaussNewton(model.parameters(), model=model, lr=1, c1=1e-4, tau=0.1, line_search_method=\"backtrack\", line_search_cond=\"armijo\")\n",
    "# opt = torch_numopt.GaussNewton(model.parameters(), model=model, lr=1, c1=1e-4, tau=0.5, line_search_method='backtrack', line_search_cond='wolfe')\n",
    "# opt = torch_numopt.GaussNewton(model.parameters(), model=model, lr=1, c1=1e-4, tau=0.5, line_search_method='backtrack', line_search_cond='strong-wolfe')\n",
    "# opt = torch_numopt.GaussNewton(model.parameters(), model=model, lr=1, c1=1e-4, tau=0.5, line_search_method='backtrack', line_search_cond='goldstein')\n",
    "\n",
    "all_loss = {}\n",
    "for epoch in range(100):\n",
    "    print(\"epoch: \", epoch, end=\"\")\n",
    "    all_loss[epoch + 1] = 0\n",
    "    for batch_idx, (b_x, b_y) in enumerate(data_loader):\n",
    "        pre = model(b_x)\n",
    "        loss = loss_fn(pre, b_y)\n",
    "        opt.zero_grad()\n",
    "        loss.backward()\n",
    "\n",
    "        # parameter update step based on optimizer\n",
    "        opt.step(b_x, b_y, loss_fn)\n",
    "\n",
    "        all_loss[epoch + 1] += loss\n",
    "    all_loss[epoch + 1] /= len(data_loader)\n",
    "    print(\", loss: {}\".format(all_loss[epoch + 1].detach().numpy().item()))"
   ]
  },
  {
   "cell_type": "code",
   "execution_count": 8,
   "metadata": {},
   "outputs": [
    {
     "name": "stdout",
     "output_type": "stream",
     "text": [
      "Train metrics: R2 = 0.9280253054432993\n",
      "Test metrics:  R2 = 0.7828060425881611\n"
     ]
    }
   ],
   "source": [
    "pred_train = model.forward(X_train).detach()\n",
    "pred_test = model.forward(X_test).detach()\n",
    "print(f\"Train metrics: R2 = {r2_score(pred_train, y_train)}\")\n",
    "print(f\"Test metrics:  R2 = {r2_score(pred_test, y_test)}\")"
   ]
  }
 ],
 "metadata": {
  "kernelspec": {
   "display_name": "ml",
   "language": "python",
   "name": "python3"
  },
  "language_info": {
   "codemirror_mode": {
    "name": "ipython",
    "version": 3
   },
   "file_extension": ".py",
   "mimetype": "text/x-python",
   "name": "python",
   "nbconvert_exporter": "python",
   "pygments_lexer": "ipython3",
   "version": "3.10.11"
  }
 },
 "nbformat": 4,
 "nbformat_minor": 2
}
