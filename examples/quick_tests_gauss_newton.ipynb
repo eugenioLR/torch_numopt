{
 "cells": [
  {
   "cell_type": "code",
   "execution_count": 1,
   "metadata": {},
   "outputs": [],
   "source": [
    "import torch\n",
    "import torch.nn as nn\n",
    "import torch.optim as optim\n",
    "import torch_numopt\n",
    "import numpy as np\n",
    "import matplotlib.pyplot as plt\n",
    "from torch.utils.data import DataLoader, TensorDataset\n",
    "from sklearn.datasets import *\n",
    "from sklearn.preprocessing import MinMaxScaler\n",
    "from sklearn.model_selection import train_test_split\n",
    "from sklearn.metrics import r2_score, mean_absolute_error"
   ]
  },
  {
   "cell_type": "code",
   "execution_count": 2,
   "metadata": {},
   "outputs": [],
   "source": [
    "device = \"cpu\""
   ]
  },
  {
   "cell_type": "code",
   "execution_count": 3,
   "metadata": {},
   "outputs": [],
   "source": [
    "class Net(nn.Module):\n",
    "    def __init__(self, input_size, device=\"cpu\"):\n",
    "        super().__init__()\n",
    "        self.f1 = nn.Linear(input_size, 10, device=device)\n",
    "        self.f2 = nn.Linear(10, 20, device=device)\n",
    "        self.f3 = nn.Linear(20, 20, device=device)\n",
    "        self.f4 = nn.Linear(20, 10, device=device)\n",
    "        self.f5 = nn.Linear(10, 1, device=device)\n",
    "\n",
    "        self.activation = nn.ReLU()\n",
    "        # self.activation = nn.Sigmoid()\n",
    "\n",
    "    def forward(self, x):\n",
    "        x = self.activation(self.f1(x))\n",
    "        x = self.activation(self.f2(x))\n",
    "        x = self.activation(self.f3(x))\n",
    "        x = self.activation(self.f4(x))\n",
    "        x = self.f5(x)\n",
    "\n",
    "        return x"
   ]
  },
  {
   "cell_type": "code",
   "execution_count": 4,
   "metadata": {},
   "outputs": [
    {
     "name": "stdout",
     "output_type": "stream",
     "text": [
      "torch.Size([800, 10]) torch.Size([800, 1])\n",
      "torch.Size([200, 10]) torch.Size([200, 1])\n"
     ]
    }
   ],
   "source": [
    "# X, y = load_diabetes(return_X_y=True, scaled=False)\n",
    "# X, y = make_regression(n_samples=1000, n_features=100)\n",
    "X, y = make_friedman1(n_samples=1000, noise=1e-2)\n",
    "\n",
    "X_scaler = MinMaxScaler()\n",
    "X = X_scaler.fit_transform(X)\n",
    "X = torch.Tensor(X).to(device)\n",
    "\n",
    "y_scaler = MinMaxScaler()\n",
    "y = y_scaler.fit_transform(y.reshape((-1, 1)))\n",
    "y = torch.Tensor(y).to(device)\n",
    "\n",
    "X_train, X_test, y_train, y_test = train_test_split(X, y, test_size=0.2)\n",
    "print(X_train.shape, y_train.shape)\n",
    "print(X_test.shape, y_test.shape)\n",
    "\n",
    "torch_data = TensorDataset(X_train, y_train)\n",
    "data_loader = DataLoader(torch_data, batch_size=1000)"
   ]
  },
  {
   "cell_type": "code",
   "execution_count": 5,
   "metadata": {},
   "outputs": [
    {
     "name": "stdout",
     "output_type": "stream",
     "text": [
      "epoch:  0, loss: 0.1347181349992752\n",
      "epoch:  1, loss: 0.08043839782476425\n",
      "epoch:  2, loss: 0.07262680679559708\n",
      "epoch:  3, loss: 0.06658076494932175\n",
      "epoch:  4, loss: 0.06049399450421333\n",
      "epoch:  5, loss: 0.05453910306096077\n",
      "epoch:  6, loss: 0.0491916798055172\n",
      "epoch:  7, loss: 0.04274391755461693\n",
      "epoch:  8, loss: 0.0385720357298851\n",
      "epoch:  9, loss: 0.03510082885622978\n",
      "epoch:  10, loss: 0.03218340873718262\n",
      "epoch:  11, loss: 0.02973810024559498\n",
      "epoch:  12, loss: 0.027384666725993156\n",
      "epoch:  13, loss: 0.025320835411548615\n",
      "epoch:  14, loss: 0.02342698723077774\n",
      "epoch:  15, loss: 0.021623307839035988\n",
      "epoch:  16, loss: 0.020169563591480255\n",
      "epoch:  17, loss: 0.018498247489333153\n",
      "epoch:  18, loss: 0.016729552298784256\n",
      "epoch:  19, loss: 0.015367661602795124\n",
      "epoch:  20, loss: 0.01403043419122696\n",
      "epoch:  21, loss: 0.01297425851225853\n",
      "epoch:  22, loss: 0.011924857273697853\n",
      "epoch:  23, loss: 0.010970059782266617\n",
      "epoch:  24, loss: 0.010059552267193794\n",
      "epoch:  25, loss: 0.00930351298302412\n",
      "epoch:  26, loss: 0.008779915980994701\n",
      "epoch:  27, loss: 0.008372821845114231\n",
      "epoch:  28, loss: 0.00776078924536705\n",
      "epoch:  29, loss: 0.007326085586100817\n",
      "epoch:  30, loss: 0.00700573343783617\n",
      "epoch:  31, loss: 0.006714874412864447\n",
      "epoch:  32, loss: 0.006629828363656998\n",
      "epoch:  33, loss: 0.006443710532039404\n",
      "epoch:  34, loss: 0.006366495043039322\n",
      "epoch:  35, loss: 0.006294934544712305\n",
      "epoch:  36, loss: 0.006209856830537319\n",
      "epoch:  37, loss: 0.00613909587264061\n",
      "epoch:  38, loss: 0.006073725409805775\n",
      "epoch:  39, loss: 0.0060140881687402725\n",
      "epoch:  40, loss: 0.005959868431091309\n",
      "epoch:  41, loss: 0.00591431837528944\n",
      "epoch:  42, loss: 0.005886686034500599\n",
      "epoch:  43, loss: 0.005849188193678856\n",
      "epoch:  44, loss: 0.005804095417261124\n",
      "epoch:  45, loss: 0.0057721687480807304\n",
      "epoch:  46, loss: 0.005728485062718391\n",
      "epoch:  47, loss: 0.005691877566277981\n",
      "epoch:  48, loss: 0.005654256325215101\n",
      "epoch:  49, loss: 0.005629341118037701\n",
      "epoch:  50, loss: 0.005593693815171719\n",
      "epoch:  51, loss: 0.0055623408406972885\n",
      "epoch:  52, loss: 0.005540178623050451\n",
      "epoch:  53, loss: 0.005509199108928442\n",
      "epoch:  54, loss: 0.005480044987052679\n",
      "epoch:  55, loss: 0.005447773728519678\n",
      "epoch:  56, loss: 0.005427073687314987\n",
      "epoch:  57, loss: 0.00540479552000761\n",
      "epoch:  58, loss: 0.0053783562034368515\n",
      "epoch:  59, loss: 0.005348273552954197\n",
      "epoch:  60, loss: 0.0053154481574893\n",
      "epoch:  61, loss: 0.005303720943629742\n",
      "epoch:  62, loss: 0.005276726558804512\n",
      "epoch:  63, loss: 0.005257620941847563\n",
      "epoch:  64, loss: 0.00523096090182662\n",
      "epoch:  65, loss: 0.005206042435020208\n",
      "epoch:  66, loss: 0.0051858630031347275\n",
      "epoch:  67, loss: 0.00516536645591259\n",
      "epoch:  68, loss: 0.005136851221323013\n",
      "epoch:  69, loss: 0.0051175374537706375\n",
      "epoch:  70, loss: 0.00509042339399457\n",
      "epoch:  71, loss: 0.005072207655757666\n",
      "epoch:  72, loss: 0.005042111501097679\n",
      "epoch:  73, loss: 0.005018231458961964\n",
      "epoch:  74, loss: 0.004990497138351202\n",
      "epoch:  75, loss: 0.0049702804535627365\n",
      "epoch:  76, loss: 0.004944973159581423\n",
      "epoch:  77, loss: 0.0049208649434149265\n",
      "epoch:  78, loss: 0.004910638555884361\n",
      "epoch:  79, loss: 0.004892465192824602\n",
      "epoch:  80, loss: 0.00486793415620923\n",
      "epoch:  81, loss: 0.004846038296818733\n",
      "epoch:  82, loss: 0.004826398566365242\n",
      "epoch:  83, loss: 0.004810662474483252\n",
      "epoch:  84, loss: 0.004787327256053686\n",
      "epoch:  85, loss: 0.004769722931087017\n",
      "epoch:  86, loss: 0.00473989499732852\n",
      "epoch:  87, loss: 0.004719943273812532\n",
      "epoch:  88, loss: 0.004705856554210186\n",
      "epoch:  89, loss: 0.004685996565967798\n",
      "epoch:  90, loss: 0.00465163541957736\n",
      "epoch:  91, loss: 0.0046284799464046955\n",
      "epoch:  92, loss: 0.0045993272215127945\n",
      "epoch:  93, loss: 0.004577904008328915\n",
      "epoch:  94, loss: 0.004558902233839035\n",
      "epoch:  95, loss: 0.004541422706097364\n",
      "epoch:  96, loss: 0.004526459611952305\n",
      "epoch:  97, loss: 0.004489076789468527\n",
      "epoch:  98, loss: 0.004473181441426277\n",
      "epoch:  99, loss: 0.004450510255992413\n"
     ]
    }
   ],
   "source": [
    "model = Net(input_size=X.shape[1], device=device)\n",
    "loss_fn = nn.MSELoss()\n",
    "# loss_fn = nn.L1Loss()\n",
    "# loss_fn = nn.NLLLoss(reduction='mean')\n",
    "opt = torch_numopt.GaussNewton(model.parameters(), lr=1, model=model, c1=1e-4, tau=0.1, line_search_method=\"backtrack\", line_search_cond=\"armijo\")\n",
    "# opt = torch_numopt.GaussNewton(model.parameters(), lr=1, model=model, c1=1e-4, tau=0.5, line_search_method='backtrack', line_search_cond='wolfe')\n",
    "# opt = torch_numopt.GaussNewton(model.parameters(), lr=1, model=model, hessian_approx=False, c1=1e-4, tau=0.5, line_search_method='backtrack', line_search_cond='strong-wolfe')\n",
    "# opt = torch_numopt.GaussNewton(model.parameters(), lr=1, model=model, hessian_approx=False, c1=1e-4, tau=0.5, line_search_method='backtrack', line_search_cond='goldstein')\n",
    "\n",
    "all_loss = {}\n",
    "for epoch in range(100):\n",
    "    print(\"epoch: \", epoch, end=\"\")\n",
    "    all_loss[epoch + 1] = 0\n",
    "    for batch_idx, (b_x, b_y) in enumerate(data_loader):\n",
    "        pre = model(b_x)\n",
    "        loss = loss_fn(pre, b_y)\n",
    "        opt.zero_grad()\n",
    "        loss.backward()\n",
    "\n",
    "        # parameter update step based on optimizer\n",
    "        opt.step(b_x, b_y, loss_fn)\n",
    "\n",
    "        all_loss[epoch + 1] += loss\n",
    "    all_loss[epoch + 1] /= len(data_loader)\n",
    "    print(\", loss: {}\".format(all_loss[epoch + 1].detach().numpy().item()))"
   ]
  },
  {
   "cell_type": "code",
   "execution_count": 6,
   "metadata": {},
   "outputs": [
    {
     "name": "stdout",
     "output_type": "stream",
     "text": [
      "Train metrics: R2 = 0.8581943252311277\n",
      "Test metrics:  R2 = 0.48252458407021326\n"
     ]
    }
   ],
   "source": [
    "pred_train = model.forward(X_train).detach()\n",
    "pred_test = model.forward(X_test).detach()\n",
    "print(f\"Train metrics: R2 = {r2_score(pred_train, y_train)}\")\n",
    "print(f\"Test metrics:  R2 = {r2_score(pred_test, y_test)}\")"
   ]
  }
 ],
 "metadata": {
  "kernelspec": {
   "display_name": "ml",
   "language": "python",
   "name": "python3"
  },
  "language_info": {
   "codemirror_mode": {
    "name": "ipython",
    "version": 3
   },
   "file_extension": ".py",
   "mimetype": "text/x-python",
   "name": "python",
   "nbconvert_exporter": "python",
   "pygments_lexer": "ipython3",
   "version": "3.10.11"
  }
 },
 "nbformat": 4,
 "nbformat_minor": 2
}
