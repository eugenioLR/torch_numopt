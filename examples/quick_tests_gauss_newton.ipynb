{
 "cells": [
  {
   "cell_type": "code",
   "execution_count": 1,
   "metadata": {},
   "outputs": [],
   "source": [
    "import torch\n",
    "import torch.nn as nn\n",
    "import torch.optim as optim\n",
    "import torch_numopt\n",
    "import numpy as np\n",
    "import matplotlib.pyplot as plt\n",
    "from torch.utils.data import DataLoader, TensorDataset\n",
    "from sklearn.datasets import *\n",
    "from sklearn.preprocessing import MinMaxScaler\n",
    "from sklearn.model_selection import train_test_split\n",
    "from sklearn.metrics import r2_score, mean_absolute_error"
   ]
  },
  {
   "cell_type": "code",
   "execution_count": 2,
   "metadata": {},
   "outputs": [],
   "source": [
    "device = \"cpu\""
   ]
  },
  {
   "cell_type": "code",
   "execution_count": 3,
   "metadata": {},
   "outputs": [],
   "source": [
    "class Net(nn.Module):\n",
    "    def __init__(self, input_size, device=\"cpu\"):\n",
    "        super().__init__()\n",
    "        self.f1 = nn.Linear(input_size, 10, device=device)\n",
    "        self.f2 = nn.Linear(10, 20, device=device)\n",
    "        self.f3 = nn.Linear(20, 20, device=device)\n",
    "        self.f4 = nn.Linear(20, 10, device=device)\n",
    "        self.f5 = nn.Linear(10, 1, device=device)\n",
    "\n",
    "        self.activation = nn.ReLU()\n",
    "        # self.activation = nn.Sigmoid()\n",
    "\n",
    "    def forward(self, x):\n",
    "        x = self.activation(self.f1(x))\n",
    "        x = self.activation(self.f2(x))\n",
    "        x = self.activation(self.f3(x))\n",
    "        x = self.activation(self.f4(x))\n",
    "        x = self.f5(x)\n",
    "\n",
    "        return x"
   ]
  },
  {
   "cell_type": "code",
   "execution_count": 4,
   "metadata": {},
   "outputs": [
    {
     "name": "stdout",
     "output_type": "stream",
     "text": [
      "torch.Size([800, 10]) torch.Size([800, 1])\n",
      "torch.Size([200, 10]) torch.Size([200, 1])\n"
     ]
    }
   ],
   "source": [
    "# X, y = load_diabetes(return_X_y=True, scaled=False)\n",
    "# X, y = make_regression(n_samples=1000, n_features=100)\n",
    "X, y = make_friedman1(n_samples=1000, noise=1e-2)\n",
    "\n",
    "X_scaler = MinMaxScaler()\n",
    "X = X_scaler.fit_transform(X)\n",
    "X = torch.Tensor(X).to(device)\n",
    "\n",
    "y_scaler = MinMaxScaler()\n",
    "y = y_scaler.fit_transform(y.reshape((-1, 1)))\n",
    "y = torch.Tensor(y).to(device)\n",
    "\n",
    "X_train, X_test, y_train, y_test = train_test_split(X, y, test_size=0.2)\n",
    "print(X_train.shape, y_train.shape)\n",
    "print(X_test.shape, y_test.shape)\n",
    "\n",
    "torch_data = TensorDataset(X_train, y_train)\n",
    "data_loader = DataLoader(torch_data, batch_size=1000)"
   ]
  },
  {
   "cell_type": "code",
   "execution_count": 5,
   "metadata": {},
   "outputs": [
    {
     "name": "stdout",
     "output_type": "stream",
     "text": [
      "epoch:  0, loss: 0.34807243943214417\n",
      "epoch:  1, loss: 0.32638901472091675\n",
      "epoch:  2, loss: 0.313434898853302\n",
      "epoch:  3, loss: 0.30219224095344543\n",
      "epoch:  4, loss: 0.2958122193813324\n",
      "epoch:  5, loss: 0.2904170751571655\n",
      "epoch:  6, loss: 0.2904170751571655\n",
      "epoch:  7, loss: 0.2904170751571655\n",
      "epoch:  8, loss: 0.26946642994880676\n",
      "epoch:  9, loss: 0.2584090530872345\n",
      "epoch:  10, loss: 0.2475092113018036\n",
      "epoch:  11, loss: 0.23671825230121613\n",
      "epoch:  12, loss: 0.22504892945289612\n",
      "epoch:  13, loss: 0.22399595379829407\n",
      "epoch:  14, loss: 0.213359534740448\n",
      "epoch:  15, loss: 0.20282182097434998\n",
      "epoch:  16, loss: 0.1921081393957138\n",
      "epoch:  17, loss: 0.18177932500839233\n",
      "epoch:  18, loss: 0.17200811207294464\n",
      "epoch:  19, loss: 0.16250042617321014\n",
      "epoch:  20, loss: 0.15448755025863647\n",
      "epoch:  21, loss: 0.14568190276622772\n",
      "epoch:  22, loss: 0.136959969997406\n",
      "epoch:  23, loss: 0.1286754608154297\n",
      "epoch:  24, loss: 0.12040997296571732\n",
      "epoch:  25, loss: 0.11272601038217545\n",
      "epoch:  26, loss: 0.105354443192482\n",
      "epoch:  27, loss: 0.09810803085565567\n",
      "epoch:  28, loss: 0.0911283791065216\n",
      "epoch:  29, loss: 0.08442696928977966\n",
      "epoch:  30, loss: 0.07795235514640808\n",
      "epoch:  31, loss: 0.07199689000844955\n",
      "epoch:  32, loss: 0.06668999791145325\n",
      "epoch:  33, loss: 0.03075743466615677\n",
      "epoch:  34, loss: 0.028576364740729332\n",
      "epoch:  35, loss: 0.026548897847533226\n",
      "epoch:  36, loss: 0.024404332041740417\n",
      "epoch:  37, loss: 0.022084062919020653\n",
      "epoch:  38, loss: 0.020172543823719025\n",
      "epoch:  39, loss: 0.018469732254743576\n",
      "epoch:  40, loss: 0.01702961139380932\n",
      "epoch:  41, loss: 0.015591418370604515\n",
      "epoch:  42, loss: 0.014311360195279121\n",
      "epoch:  43, loss: 0.013227740302681923\n",
      "epoch:  44, loss: 0.01213924866169691\n",
      "epoch:  45, loss: 0.011341108940541744\n",
      "epoch:  46, loss: 0.010709145106375217\n",
      "epoch:  47, loss: 0.009913820773363113\n",
      "epoch:  48, loss: 0.009228037670254707\n",
      "epoch:  49, loss: 0.008775737136602402\n",
      "epoch:  50, loss: 0.008551313541829586\n",
      "epoch:  51, loss: 0.008202282711863518\n",
      "epoch:  52, loss: 0.007999611087143421\n",
      "epoch:  53, loss: 0.007620628923177719\n",
      "epoch:  54, loss: 0.007539449259638786\n",
      "epoch:  55, loss: 0.0074110571295022964\n",
      "epoch:  56, loss: 0.007081568241119385\n",
      "epoch:  57, loss: 0.00684086699038744\n",
      "epoch:  58, loss: 0.006659880746155977\n",
      "epoch:  59, loss: 0.006545139476656914\n",
      "epoch:  60, loss: 0.006312847137451172\n",
      "epoch:  61, loss: 0.006241306662559509\n",
      "epoch:  62, loss: 0.006151974201202393\n",
      "epoch:  63, loss: 0.0061389124020934105\n",
      "epoch:  64, loss: 0.005728287622332573\n",
      "epoch:  65, loss: 0.0057215518318116665\n",
      "epoch:  66, loss: 0.005632123909890652\n",
      "epoch:  67, loss: 0.005563011392951012\n",
      "epoch:  68, loss: 0.005509055219590664\n",
      "epoch:  69, loss: 0.0053596897050738335\n",
      "epoch:  70, loss: 0.0052962289191782475\n",
      "epoch:  71, loss: 0.005243199411779642\n",
      "epoch:  72, loss: 0.005195891950279474\n",
      "epoch:  73, loss: 0.005109307821840048\n",
      "epoch:  74, loss: 0.005106664262712002\n",
      "epoch:  75, loss: 0.005069009494036436\n",
      "epoch:  76, loss: 0.004929757677018642\n",
      "epoch:  77, loss: 0.004711672198027372\n",
      "epoch:  78, loss: 0.004571190103888512\n",
      "epoch:  79, loss: 0.00449738185852766\n",
      "epoch:  80, loss: 0.004439743235707283\n",
      "epoch:  81, loss: 0.004437081050127745\n",
      "epoch:  82, loss: 0.004387793131172657\n",
      "epoch:  83, loss: 0.004298127721995115\n",
      "epoch:  84, loss: 0.0042383139953017235\n",
      "epoch:  85, loss: 0.0040244306437671185\n",
      "epoch:  86, loss: 0.004002118017524481\n",
      "epoch:  87, loss: 0.003934781067073345\n",
      "epoch:  88, loss: 0.0038344794884324074\n",
      "epoch:  89, loss: 0.0037688184529542923\n",
      "epoch:  90, loss: 0.003723029512912035\n",
      "epoch:  91, loss: 0.0036781274247914553\n",
      "epoch:  92, loss: 0.0036417380906641483\n",
      "epoch:  93, loss: 0.0036132540553808212\n",
      "epoch:  94, loss: 0.003589516505599022\n",
      "epoch:  95, loss: 0.003568014595657587\n",
      "epoch:  96, loss: 0.00354559812694788\n",
      "epoch:  97, loss: 0.0035316122230142355\n",
      "epoch:  98, loss: 0.0035159755498170853\n",
      "epoch:  99, loss: 0.0035015633329749107\n"
     ]
    }
   ],
   "source": [
    "model = Net(input_size=X.shape[1], device=device)\n",
    "loss_fn = nn.MSELoss()\n",
    "\n",
    "# opt = torch_numopt.GaussNewton(model=model, lr=1, line_search_method=\"const\")\n",
    "opt = torch_numopt.GaussNewton(model=model, lr=1, c1=1e-4, tau=0.1, line_search_method=\"backtrack\", line_search_cond=\"armijo\")\n",
    "# opt = torch_numopt.GaussNewton(model=model, lr=1, c1=1e-4, tau=0.5, line_search_method='backtrack', line_search_cond='wolfe')\n",
    "# opt = torch_numopt.GaussNewton(model=model, lr=1, c1=1e-4, tau=0.5, line_search_method='backtrack', line_search_cond='strong-wolfe')\n",
    "# opt = torch_numopt.GaussNewton(model=model, lr=1, c1=1e-4, tau=0.5, line_search_method='backtrack', line_search_cond='goldstein')\n",
    "\n",
    "all_loss = {}\n",
    "for epoch in range(100):\n",
    "    print(\"epoch: \", epoch, end=\"\")\n",
    "    all_loss[epoch + 1] = 0\n",
    "    for batch_idx, (b_x, b_y) in enumerate(data_loader):\n",
    "        pre = model(b_x)\n",
    "        loss = loss_fn(pre, b_y)\n",
    "        opt.zero_grad()\n",
    "        loss.backward()\n",
    "\n",
    "        # parameter update step based on optimizer\n",
    "        opt.step(b_x, b_y, loss_fn)\n",
    "\n",
    "        all_loss[epoch + 1] += loss\n",
    "    all_loss[epoch + 1] /= len(data_loader)\n",
    "    print(\", loss: {}\".format(all_loss[epoch + 1].detach().numpy().item()))"
   ]
  },
  {
   "cell_type": "code",
   "execution_count": 6,
   "metadata": {},
   "outputs": [
    {
     "name": "stdout",
     "output_type": "stream",
     "text": [
      "Train metrics: R2 = 0.882425856018325\n",
      "Test metrics:  R2 = 0.5240608551267321\n"
     ]
    }
   ],
   "source": [
    "pred_train = model.forward(X_train).detach()\n",
    "pred_test = model.forward(X_test).detach()\n",
    "print(f\"Train metrics: R2 = {r2_score(pred_train, y_train)}\")\n",
    "print(f\"Test metrics:  R2 = {r2_score(pred_test, y_test)}\")"
   ]
  }
 ],
 "metadata": {
  "kernelspec": {
   "display_name": "ml",
   "language": "python",
   "name": "python3"
  },
  "language_info": {
   "codemirror_mode": {
    "name": "ipython",
    "version": 3
   },
   "file_extension": ".py",
   "mimetype": "text/x-python",
   "name": "python",
   "nbconvert_exporter": "python",
   "pygments_lexer": "ipython3",
   "version": "3.10.11"
  }
 },
 "nbformat": 4,
 "nbformat_minor": 2
}
